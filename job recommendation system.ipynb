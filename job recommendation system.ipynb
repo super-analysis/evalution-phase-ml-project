{
 "cells": [
  {
   "cell_type": "markdown",
   "id": "d8bfab76",
   "metadata": {},
   "source": [
    "# Job Recommendation System"
   ]
  },
  {
   "cell_type": "markdown",
   "id": "e1f88f99",
   "metadata": {},
   "source": [
    "# import lib"
   ]
  },
  {
   "cell_type": "raw",
   "id": "e33cc087",
   "metadata": {},
   "source": [
    "1-data aquisition\n",
    "2-text preprocessing\n",
    "basic preprocessing\n",
    "advanced preprocessing\n",
    "3-feature extraction or feature engineering\n",
    "4-evalution model\n",
    "5-deployment"
   ]
  },
  {
   "cell_type": "code",
   "execution_count": 1,
   "id": "c2615a70",
   "metadata": {},
   "outputs": [],
   "source": [
    "import pandas as pd\n",
    "import numpy as np"
   ]
  },
  {
   "cell_type": "code",
   "execution_count": 2,
   "id": "f30cbc6c",
   "metadata": {},
   "outputs": [],
   "source": [
    "#load dataset\n",
    "df = pd.read_csv('Combined_Jobs_Final.csv')"
   ]
  },
  {
   "cell_type": "markdown",
   "id": "eb568068",
   "metadata": {},
   "source": [
    "# data analysis"
   ]
  },
  {
   "cell_type": "code",
   "execution_count": 3,
   "id": "bf3cef33",
   "metadata": {},
   "outputs": [
    {
     "data": {
      "text/html": [
       "<div>\n",
       "<style scoped>\n",
       "    .dataframe tbody tr th:only-of-type {\n",
       "        vertical-align: middle;\n",
       "    }\n",
       "\n",
       "    .dataframe tbody tr th {\n",
       "        vertical-align: top;\n",
       "    }\n",
       "\n",
       "    .dataframe thead th {\n",
       "        text-align: right;\n",
       "    }\n",
       "</style>\n",
       "<table border=\"1\" class=\"dataframe\">\n",
       "  <thead>\n",
       "    <tr style=\"text-align: right;\">\n",
       "      <th></th>\n",
       "      <th>Job.ID</th>\n",
       "      <th>Provider</th>\n",
       "      <th>Status</th>\n",
       "      <th>Slug</th>\n",
       "      <th>Title</th>\n",
       "      <th>Position</th>\n",
       "      <th>Company</th>\n",
       "      <th>City</th>\n",
       "      <th>State.Name</th>\n",
       "      <th>State.Code</th>\n",
       "      <th>...</th>\n",
       "      <th>Industry</th>\n",
       "      <th>Job.Description</th>\n",
       "      <th>Requirements</th>\n",
       "      <th>Salary</th>\n",
       "      <th>Listing.Start</th>\n",
       "      <th>Listing.End</th>\n",
       "      <th>Employment.Type</th>\n",
       "      <th>Education.Required</th>\n",
       "      <th>Created.At</th>\n",
       "      <th>Updated.At</th>\n",
       "    </tr>\n",
       "  </thead>\n",
       "  <tbody>\n",
       "    <tr>\n",
       "      <th>0</th>\n",
       "      <td>111</td>\n",
       "      <td>1</td>\n",
       "      <td>open</td>\n",
       "      <td>palo-alto-ca-tacolicious-server</td>\n",
       "      <td>Server @ Tacolicious</td>\n",
       "      <td>Server</td>\n",
       "      <td>Tacolicious</td>\n",
       "      <td>Palo Alto</td>\n",
       "      <td>California</td>\n",
       "      <td>CA</td>\n",
       "      <td>...</td>\n",
       "      <td>Food and Beverages</td>\n",
       "      <td>Tacolicious' first Palo Alto store just opened...</td>\n",
       "      <td>NaN</td>\n",
       "      <td>8.00</td>\n",
       "      <td>NaN</td>\n",
       "      <td>NaN</td>\n",
       "      <td>Part-Time</td>\n",
       "      <td>NaN</td>\n",
       "      <td>2013-03-12 02:08:28 UTC</td>\n",
       "      <td>2014-08-16 15:35:36 UTC</td>\n",
       "    </tr>\n",
       "    <tr>\n",
       "      <th>1</th>\n",
       "      <td>113</td>\n",
       "      <td>1</td>\n",
       "      <td>open</td>\n",
       "      <td>san-francisco-ca-claude-lane-kitchen-staff-chef</td>\n",
       "      <td>Kitchen Staff/Chef @ Claude Lane</td>\n",
       "      <td>Kitchen Staff/Chef</td>\n",
       "      <td>Claude Lane</td>\n",
       "      <td>San Francisco</td>\n",
       "      <td>California</td>\n",
       "      <td>CA</td>\n",
       "      <td>...</td>\n",
       "      <td>Food and Beverages</td>\n",
       "      <td>\\r\\n\\r\\nNew French Brasserie in S.F. Financia...</td>\n",
       "      <td>NaN</td>\n",
       "      <td>0.00</td>\n",
       "      <td>NaN</td>\n",
       "      <td>NaN</td>\n",
       "      <td>Part-Time</td>\n",
       "      <td>NaN</td>\n",
       "      <td>2013-04-12 08:36:36 UTC</td>\n",
       "      <td>2014-08-16 15:35:36 UTC</td>\n",
       "    </tr>\n",
       "    <tr>\n",
       "      <th>2</th>\n",
       "      <td>117</td>\n",
       "      <td>1</td>\n",
       "      <td>open</td>\n",
       "      <td>san-francisco-ca-machka-restaurants-corp-barte...</td>\n",
       "      <td>Bartender @ Machka Restaurants Corp.</td>\n",
       "      <td>Bartender</td>\n",
       "      <td>Machka Restaurants Corp.</td>\n",
       "      <td>San Francisco</td>\n",
       "      <td>California</td>\n",
       "      <td>CA</td>\n",
       "      <td>...</td>\n",
       "      <td>Food and Beverages</td>\n",
       "      <td>We are a popular Mediterranean wine bar and re...</td>\n",
       "      <td>NaN</td>\n",
       "      <td>11.00</td>\n",
       "      <td>NaN</td>\n",
       "      <td>NaN</td>\n",
       "      <td>Part-Time</td>\n",
       "      <td>NaN</td>\n",
       "      <td>2013-07-16 09:34:10 UTC</td>\n",
       "      <td>2014-08-16 15:35:37 UTC</td>\n",
       "    </tr>\n",
       "    <tr>\n",
       "      <th>3</th>\n",
       "      <td>121</td>\n",
       "      <td>1</td>\n",
       "      <td>open</td>\n",
       "      <td>brisbane-ca-teriyaki-house-server</td>\n",
       "      <td>Server @ Teriyaki House</td>\n",
       "      <td>Server</td>\n",
       "      <td>Teriyaki House</td>\n",
       "      <td>Brisbane</td>\n",
       "      <td>California</td>\n",
       "      <td>CA</td>\n",
       "      <td>...</td>\n",
       "      <td>Food and Beverages</td>\n",
       "      <td>● Serve food/drinks to customers in a profess...</td>\n",
       "      <td>NaN</td>\n",
       "      <td>10.55</td>\n",
       "      <td>NaN</td>\n",
       "      <td>NaN</td>\n",
       "      <td>Part-Time</td>\n",
       "      <td>NaN</td>\n",
       "      <td>2013-09-04 15:40:30 UTC</td>\n",
       "      <td>2014-08-16 15:35:38 UTC</td>\n",
       "    </tr>\n",
       "    <tr>\n",
       "      <th>4</th>\n",
       "      <td>127</td>\n",
       "      <td>1</td>\n",
       "      <td>open</td>\n",
       "      <td>los-angeles-ca-rosa-mexicano-sunset-kitchen-st...</td>\n",
       "      <td>Kitchen Staff/Chef @ Rosa Mexicano - Sunset</td>\n",
       "      <td>Kitchen Staff/Chef</td>\n",
       "      <td>Rosa Mexicano - Sunset</td>\n",
       "      <td>Los Angeles</td>\n",
       "      <td>California</td>\n",
       "      <td>CA</td>\n",
       "      <td>...</td>\n",
       "      <td>Food and Beverages</td>\n",
       "      <td>Located at the heart of Hollywood, we are one ...</td>\n",
       "      <td>NaN</td>\n",
       "      <td>10.55</td>\n",
       "      <td>NaN</td>\n",
       "      <td>NaN</td>\n",
       "      <td>Part-Time</td>\n",
       "      <td>NaN</td>\n",
       "      <td>2013-07-17 15:26:18 UTC</td>\n",
       "      <td>2014-08-16 15:35:40 UTC</td>\n",
       "    </tr>\n",
       "  </tbody>\n",
       "</table>\n",
       "<p>5 rows × 23 columns</p>\n",
       "</div>"
      ],
      "text/plain": [
       "   Job.ID  Provider Status                                               Slug  \\\n",
       "0     111         1   open                    palo-alto-ca-tacolicious-server   \n",
       "1     113         1   open    san-francisco-ca-claude-lane-kitchen-staff-chef   \n",
       "2     117         1   open  san-francisco-ca-machka-restaurants-corp-barte...   \n",
       "3     121         1   open                  brisbane-ca-teriyaki-house-server   \n",
       "4     127         1   open  los-angeles-ca-rosa-mexicano-sunset-kitchen-st...   \n",
       "\n",
       "                                         Title            Position  \\\n",
       "0                         Server @ Tacolicious              Server   \n",
       "1             Kitchen Staff/Chef @ Claude Lane  Kitchen Staff/Chef   \n",
       "2         Bartender @ Machka Restaurants Corp.           Bartender   \n",
       "3                      Server @ Teriyaki House              Server   \n",
       "4  Kitchen Staff/Chef @ Rosa Mexicano - Sunset  Kitchen Staff/Chef   \n",
       "\n",
       "                    Company           City  State.Name State.Code  ...  \\\n",
       "0               Tacolicious      Palo Alto  California         CA  ...   \n",
       "1               Claude Lane  San Francisco  California         CA  ...   \n",
       "2  Machka Restaurants Corp.  San Francisco  California         CA  ...   \n",
       "3            Teriyaki House       Brisbane  California         CA  ...   \n",
       "4    Rosa Mexicano - Sunset    Los Angeles  California         CA  ...   \n",
       "\n",
       "             Industry                                    Job.Description  \\\n",
       "0  Food and Beverages  Tacolicious' first Palo Alto store just opened...   \n",
       "1  Food and Beverages   \\r\\n\\r\\nNew French Brasserie in S.F. Financia...   \n",
       "2  Food and Beverages  We are a popular Mediterranean wine bar and re...   \n",
       "3  Food and Beverages   ● Serve food/drinks to customers in a profess...   \n",
       "4  Food and Beverages  Located at the heart of Hollywood, we are one ...   \n",
       "\n",
       "   Requirements Salary Listing.Start  Listing.End  Employment.Type  \\\n",
       "0           NaN   8.00           NaN          NaN        Part-Time   \n",
       "1           NaN   0.00           NaN          NaN        Part-Time   \n",
       "2           NaN  11.00           NaN          NaN        Part-Time   \n",
       "3           NaN  10.55           NaN          NaN        Part-Time   \n",
       "4           NaN  10.55           NaN          NaN        Part-Time   \n",
       "\n",
       "  Education.Required               Created.At               Updated.At  \n",
       "0                NaN  2013-03-12 02:08:28 UTC  2014-08-16 15:35:36 UTC  \n",
       "1                NaN  2013-04-12 08:36:36 UTC  2014-08-16 15:35:36 UTC  \n",
       "2                NaN  2013-07-16 09:34:10 UTC  2014-08-16 15:35:37 UTC  \n",
       "3                NaN  2013-09-04 15:40:30 UTC  2014-08-16 15:35:38 UTC  \n",
       "4                NaN  2013-07-17 15:26:18 UTC  2014-08-16 15:35:40 UTC  \n",
       "\n",
       "[5 rows x 23 columns]"
      ]
     },
     "execution_count": 3,
     "metadata": {},
     "output_type": "execute_result"
    }
   ],
   "source": [
    "df.head()"
   ]
  },
  {
   "cell_type": "code",
   "execution_count": 4,
   "id": "b28e15f7",
   "metadata": {},
   "outputs": [
    {
     "data": {
      "text/plain": [
       "(84090, 23)"
      ]
     },
     "execution_count": 4,
     "metadata": {},
     "output_type": "execute_result"
    }
   ],
   "source": [
    "df.shape"
   ]
  },
  {
   "cell_type": "code",
   "execution_count": 5,
   "id": "9324b8d5",
   "metadata": {},
   "outputs": [
    {
     "name": "stdout",
     "output_type": "stream",
     "text": [
      "<class 'pandas.core.frame.DataFrame'>\n",
      "RangeIndex: 84090 entries, 0 to 84089\n",
      "Data columns (total 23 columns):\n",
      " #   Column              Non-Null Count  Dtype  \n",
      "---  ------              --------------  -----  \n",
      " 0   Job.ID              84090 non-null  int64  \n",
      " 1   Provider            84090 non-null  int64  \n",
      " 2   Status              84090 non-null  object \n",
      " 3   Slug                84090 non-null  object \n",
      " 4   Title               84090 non-null  object \n",
      " 5   Position            84090 non-null  object \n",
      " 6   Company             81819 non-null  object \n",
      " 7   City                83955 non-null  object \n",
      " 8   State.Name          83919 non-null  object \n",
      " 9   State.Code          83919 non-null  object \n",
      " 10  Address             36 non-null     object \n",
      " 11  Latitude            84090 non-null  float64\n",
      " 12  Longitude           84090 non-null  float64\n",
      " 13  Industry            267 non-null    object \n",
      " 14  Job.Description     84034 non-null  object \n",
      " 15  Requirements        0 non-null      float64\n",
      " 16  Salary              229 non-null    float64\n",
      " 17  Listing.Start       83407 non-null  object \n",
      " 18  Listing.End         83923 non-null  object \n",
      " 19  Employment.Type     84080 non-null  object \n",
      " 20  Education.Required  83823 non-null  object \n",
      " 21  Created.At          84090 non-null  object \n",
      " 22  Updated.At          84090 non-null  object \n",
      "dtypes: float64(4), int64(2), object(17)\n",
      "memory usage: 14.8+ MB\n"
     ]
    }
   ],
   "source": [
    "df.info()"
   ]
  },
  {
   "cell_type": "code",
   "execution_count": 6,
   "id": "5b0e5178",
   "metadata": {},
   "outputs": [
    {
     "data": {
      "text/plain": [
       "Job.ID                    0\n",
       "Provider                  0\n",
       "Status                    0\n",
       "Slug                      0\n",
       "Title                     0\n",
       "Position                  0\n",
       "Company                2271\n",
       "City                    135\n",
       "State.Name              171\n",
       "State.Code              171\n",
       "Address               84054\n",
       "Latitude                  0\n",
       "Longitude                 0\n",
       "Industry              83823\n",
       "Job.Description          56\n",
       "Requirements          84090\n",
       "Salary                83861\n",
       "Listing.Start           683\n",
       "Listing.End             167\n",
       "Employment.Type          10\n",
       "Education.Required      267\n",
       "Created.At                0\n",
       "Updated.At                0\n",
       "dtype: int64"
      ]
     },
     "execution_count": 6,
     "metadata": {},
     "output_type": "execute_result"
    }
   ],
   "source": [
    "df.isnull().sum()"
   ]
  },
  {
   "cell_type": "code",
   "execution_count": 7,
   "id": "73fa805f",
   "metadata": {},
   "outputs": [
    {
     "data": {
      "text/plain": [
       "0"
      ]
     },
     "execution_count": 7,
     "metadata": {},
     "output_type": "execute_result"
    }
   ],
   "source": [
    "df.duplicated().sum()"
   ]
  },
  {
   "cell_type": "raw",
   "id": "dc5adc11",
   "metadata": {},
   "source": [
    "#summarization\n",
    "1-have null values in data\n",
    "2-no duplicated value\n",
    "3-23 columns\n",
    "4-84090 rows"
   ]
  },
  {
   "cell_type": "code",
   "execution_count": 8,
   "id": "462c44de",
   "metadata": {},
   "outputs": [
    {
     "data": {
      "text/html": [
       "<div>\n",
       "<style scoped>\n",
       "    .dataframe tbody tr th:only-of-type {\n",
       "        vertical-align: middle;\n",
       "    }\n",
       "\n",
       "    .dataframe tbody tr th {\n",
       "        vertical-align: top;\n",
       "    }\n",
       "\n",
       "    .dataframe thead th {\n",
       "        text-align: right;\n",
       "    }\n",
       "</style>\n",
       "<table border=\"1\" class=\"dataframe\">\n",
       "  <thead>\n",
       "    <tr style=\"text-align: right;\">\n",
       "      <th></th>\n",
       "      <th>Job.ID</th>\n",
       "      <th>Provider</th>\n",
       "      <th>Status</th>\n",
       "      <th>Slug</th>\n",
       "      <th>Title</th>\n",
       "      <th>Position</th>\n",
       "      <th>Company</th>\n",
       "      <th>City</th>\n",
       "      <th>State.Name</th>\n",
       "      <th>State.Code</th>\n",
       "      <th>...</th>\n",
       "      <th>Industry</th>\n",
       "      <th>Job.Description</th>\n",
       "      <th>Requirements</th>\n",
       "      <th>Salary</th>\n",
       "      <th>Listing.Start</th>\n",
       "      <th>Listing.End</th>\n",
       "      <th>Employment.Type</th>\n",
       "      <th>Education.Required</th>\n",
       "      <th>Created.At</th>\n",
       "      <th>Updated.At</th>\n",
       "    </tr>\n",
       "  </thead>\n",
       "  <tbody>\n",
       "    <tr>\n",
       "      <th>0</th>\n",
       "      <td>111</td>\n",
       "      <td>1</td>\n",
       "      <td>open</td>\n",
       "      <td>palo-alto-ca-tacolicious-server</td>\n",
       "      <td>Server @ Tacolicious</td>\n",
       "      <td>Server</td>\n",
       "      <td>Tacolicious</td>\n",
       "      <td>Palo Alto</td>\n",
       "      <td>California</td>\n",
       "      <td>CA</td>\n",
       "      <td>...</td>\n",
       "      <td>Food and Beverages</td>\n",
       "      <td>Tacolicious' first Palo Alto store just opened...</td>\n",
       "      <td>NaN</td>\n",
       "      <td>8.0</td>\n",
       "      <td>NaN</td>\n",
       "      <td>NaN</td>\n",
       "      <td>Part-Time</td>\n",
       "      <td>NaN</td>\n",
       "      <td>2013-03-12 02:08:28 UTC</td>\n",
       "      <td>2014-08-16 15:35:36 UTC</td>\n",
       "    </tr>\n",
       "    <tr>\n",
       "      <th>1</th>\n",
       "      <td>113</td>\n",
       "      <td>1</td>\n",
       "      <td>open</td>\n",
       "      <td>san-francisco-ca-claude-lane-kitchen-staff-chef</td>\n",
       "      <td>Kitchen Staff/Chef @ Claude Lane</td>\n",
       "      <td>Kitchen Staff/Chef</td>\n",
       "      <td>Claude Lane</td>\n",
       "      <td>San Francisco</td>\n",
       "      <td>California</td>\n",
       "      <td>CA</td>\n",
       "      <td>...</td>\n",
       "      <td>Food and Beverages</td>\n",
       "      <td>\\r\\n\\r\\nNew French Brasserie in S.F. Financia...</td>\n",
       "      <td>NaN</td>\n",
       "      <td>0.0</td>\n",
       "      <td>NaN</td>\n",
       "      <td>NaN</td>\n",
       "      <td>Part-Time</td>\n",
       "      <td>NaN</td>\n",
       "      <td>2013-04-12 08:36:36 UTC</td>\n",
       "      <td>2014-08-16 15:35:36 UTC</td>\n",
       "    </tr>\n",
       "    <tr>\n",
       "      <th>2</th>\n",
       "      <td>117</td>\n",
       "      <td>1</td>\n",
       "      <td>open</td>\n",
       "      <td>san-francisco-ca-machka-restaurants-corp-barte...</td>\n",
       "      <td>Bartender @ Machka Restaurants Corp.</td>\n",
       "      <td>Bartender</td>\n",
       "      <td>Machka Restaurants Corp.</td>\n",
       "      <td>San Francisco</td>\n",
       "      <td>California</td>\n",
       "      <td>CA</td>\n",
       "      <td>...</td>\n",
       "      <td>Food and Beverages</td>\n",
       "      <td>We are a popular Mediterranean wine bar and re...</td>\n",
       "      <td>NaN</td>\n",
       "      <td>11.0</td>\n",
       "      <td>NaN</td>\n",
       "      <td>NaN</td>\n",
       "      <td>Part-Time</td>\n",
       "      <td>NaN</td>\n",
       "      <td>2013-07-16 09:34:10 UTC</td>\n",
       "      <td>2014-08-16 15:35:37 UTC</td>\n",
       "    </tr>\n",
       "  </tbody>\n",
       "</table>\n",
       "<p>3 rows × 23 columns</p>\n",
       "</div>"
      ],
      "text/plain": [
       "   Job.ID  Provider Status                                               Slug  \\\n",
       "0     111         1   open                    palo-alto-ca-tacolicious-server   \n",
       "1     113         1   open    san-francisco-ca-claude-lane-kitchen-staff-chef   \n",
       "2     117         1   open  san-francisco-ca-machka-restaurants-corp-barte...   \n",
       "\n",
       "                                  Title            Position  \\\n",
       "0                  Server @ Tacolicious              Server   \n",
       "1      Kitchen Staff/Chef @ Claude Lane  Kitchen Staff/Chef   \n",
       "2  Bartender @ Machka Restaurants Corp.           Bartender   \n",
       "\n",
       "                    Company           City  State.Name State.Code  ...  \\\n",
       "0               Tacolicious      Palo Alto  California         CA  ...   \n",
       "1               Claude Lane  San Francisco  California         CA  ...   \n",
       "2  Machka Restaurants Corp.  San Francisco  California         CA  ...   \n",
       "\n",
       "             Industry                                    Job.Description  \\\n",
       "0  Food and Beverages  Tacolicious' first Palo Alto store just opened...   \n",
       "1  Food and Beverages   \\r\\n\\r\\nNew French Brasserie in S.F. Financia...   \n",
       "2  Food and Beverages  We are a popular Mediterranean wine bar and re...   \n",
       "\n",
       "   Requirements Salary Listing.Start  Listing.End  Employment.Type  \\\n",
       "0           NaN    8.0           NaN          NaN        Part-Time   \n",
       "1           NaN    0.0           NaN          NaN        Part-Time   \n",
       "2           NaN   11.0           NaN          NaN        Part-Time   \n",
       "\n",
       "  Education.Required               Created.At               Updated.At  \n",
       "0                NaN  2013-03-12 02:08:28 UTC  2014-08-16 15:35:36 UTC  \n",
       "1                NaN  2013-04-12 08:36:36 UTC  2014-08-16 15:35:36 UTC  \n",
       "2                NaN  2013-07-16 09:34:10 UTC  2014-08-16 15:35:37 UTC  \n",
       "\n",
       "[3 rows x 23 columns]"
      ]
     },
     "execution_count": 8,
     "metadata": {},
     "output_type": "execute_result"
    }
   ],
   "source": [
    "df.head(3)"
   ]
  },
  {
   "cell_type": "code",
   "execution_count": 9,
   "id": "b76ae6bf",
   "metadata": {},
   "outputs": [],
   "source": [
    "#have important columns\n",
    "df = df[['Status', 'Title', 'Position', 'Company', 'Job.Description']]"
   ]
  },
  {
   "cell_type": "code",
   "execution_count": 10,
   "id": "c1762e4e",
   "metadata": {},
   "outputs": [
    {
     "data": {
      "text/html": [
       "<div>\n",
       "<style scoped>\n",
       "    .dataframe tbody tr th:only-of-type {\n",
       "        vertical-align: middle;\n",
       "    }\n",
       "\n",
       "    .dataframe tbody tr th {\n",
       "        vertical-align: top;\n",
       "    }\n",
       "\n",
       "    .dataframe thead th {\n",
       "        text-align: right;\n",
       "    }\n",
       "</style>\n",
       "<table border=\"1\" class=\"dataframe\">\n",
       "  <thead>\n",
       "    <tr style=\"text-align: right;\">\n",
       "      <th></th>\n",
       "      <th>Status</th>\n",
       "      <th>Title</th>\n",
       "      <th>Position</th>\n",
       "      <th>Company</th>\n",
       "      <th>Job.Description</th>\n",
       "    </tr>\n",
       "  </thead>\n",
       "  <tbody>\n",
       "    <tr>\n",
       "      <th>0</th>\n",
       "      <td>open</td>\n",
       "      <td>Server @ Tacolicious</td>\n",
       "      <td>Server</td>\n",
       "      <td>Tacolicious</td>\n",
       "      <td>Tacolicious' first Palo Alto store just opened...</td>\n",
       "    </tr>\n",
       "    <tr>\n",
       "      <th>1</th>\n",
       "      <td>open</td>\n",
       "      <td>Kitchen Staff/Chef @ Claude Lane</td>\n",
       "      <td>Kitchen Staff/Chef</td>\n",
       "      <td>Claude Lane</td>\n",
       "      <td>\\r\\n\\r\\nNew French Brasserie in S.F. Financia...</td>\n",
       "    </tr>\n",
       "    <tr>\n",
       "      <th>2</th>\n",
       "      <td>open</td>\n",
       "      <td>Bartender @ Machka Restaurants Corp.</td>\n",
       "      <td>Bartender</td>\n",
       "      <td>Machka Restaurants Corp.</td>\n",
       "      <td>We are a popular Mediterranean wine bar and re...</td>\n",
       "    </tr>\n",
       "    <tr>\n",
       "      <th>3</th>\n",
       "      <td>open</td>\n",
       "      <td>Server @ Teriyaki House</td>\n",
       "      <td>Server</td>\n",
       "      <td>Teriyaki House</td>\n",
       "      <td>● Serve food/drinks to customers in a profess...</td>\n",
       "    </tr>\n",
       "    <tr>\n",
       "      <th>4</th>\n",
       "      <td>open</td>\n",
       "      <td>Kitchen Staff/Chef @ Rosa Mexicano - Sunset</td>\n",
       "      <td>Kitchen Staff/Chef</td>\n",
       "      <td>Rosa Mexicano - Sunset</td>\n",
       "      <td>Located at the heart of Hollywood, we are one ...</td>\n",
       "    </tr>\n",
       "  </tbody>\n",
       "</table>\n",
       "</div>"
      ],
      "text/plain": [
       "  Status                                        Title            Position  \\\n",
       "0   open                         Server @ Tacolicious              Server   \n",
       "1   open             Kitchen Staff/Chef @ Claude Lane  Kitchen Staff/Chef   \n",
       "2   open         Bartender @ Machka Restaurants Corp.           Bartender   \n",
       "3   open                      Server @ Teriyaki House              Server   \n",
       "4   open  Kitchen Staff/Chef @ Rosa Mexicano - Sunset  Kitchen Staff/Chef   \n",
       "\n",
       "                    Company                                    Job.Description  \n",
       "0               Tacolicious  Tacolicious' first Palo Alto store just opened...  \n",
       "1               Claude Lane   \\r\\n\\r\\nNew French Brasserie in S.F. Financia...  \n",
       "2  Machka Restaurants Corp.  We are a popular Mediterranean wine bar and re...  \n",
       "3            Teriyaki House   ● Serve food/drinks to customers in a profess...  \n",
       "4    Rosa Mexicano - Sunset  Located at the heart of Hollywood, we are one ...  "
      ]
     },
     "execution_count": 10,
     "metadata": {},
     "output_type": "execute_result"
    }
   ],
   "source": [
    "df.head()"
   ]
  },
  {
   "cell_type": "code",
   "execution_count": 11,
   "id": "05819faa",
   "metadata": {},
   "outputs": [
    {
     "data": {
      "text/plain": [
       "Status                0\n",
       "Title                 0\n",
       "Position              0\n",
       "Company            2271\n",
       "Job.Description      56\n",
       "dtype: int64"
      ]
     },
     "execution_count": 11,
     "metadata": {},
     "output_type": "execute_result"
    }
   ],
   "source": [
    "df.isnull().sum()"
   ]
  },
  {
   "cell_type": "code",
   "execution_count": 12,
   "id": "031fbfb7",
   "metadata": {},
   "outputs": [],
   "source": [
    "df.fillna('',inplace=True)"
   ]
  },
  {
   "cell_type": "code",
   "execution_count": 13,
   "id": "aea68e0e",
   "metadata": {},
   "outputs": [
    {
     "data": {
      "text/plain": [
       "Status             0\n",
       "Title              0\n",
       "Position           0\n",
       "Company            0\n",
       "Job.Description    0\n",
       "dtype: int64"
      ]
     },
     "execution_count": 13,
     "metadata": {},
     "output_type": "execute_result"
    }
   ],
   "source": [
    "df.isnull().sum()"
   ]
  },
  {
   "cell_type": "code",
   "execution_count": 14,
   "id": "6dc849c1",
   "metadata": {},
   "outputs": [],
   "source": [
    "df = df.sample(n=1000,random_state=42)"
   ]
  },
  {
   "cell_type": "code",
   "execution_count": 15,
   "id": "ddc197ac",
   "metadata": {},
   "outputs": [
    {
     "data": {
      "text/plain": [
       "(1000, 5)"
      ]
     },
     "execution_count": 15,
     "metadata": {},
     "output_type": "execute_result"
    }
   ],
   "source": [
    "df.shape"
   ]
  },
  {
   "cell_type": "markdown",
   "id": "8e302815",
   "metadata": {},
   "source": [
    "#  data cleaning and preprocessing"
   ]
  },
  {
   "cell_type": "raw",
   "id": "0e07f13d",
   "metadata": {},
   "source": [
    "keeping all letters and digits\n",
    "lover case\n",
    "removing stopwords\n",
    "tokenization\n",
    "stemming"
   ]
  },
  {
   "cell_type": "code",
   "execution_count": 16,
   "id": "5044fd17",
   "metadata": {},
   "outputs": [],
   "source": [
    "from nltk.corpus import stopwords\n",
    "import nltk\n",
    "import re\n",
    "from nltk.stem.porter import PorterStemmer"
   ]
  },
  {
   "cell_type": "code",
   "execution_count": 17,
   "id": "36981bb7",
   "metadata": {},
   "outputs": [
    {
     "data": {
      "text/html": [
       "<div>\n",
       "<style scoped>\n",
       "    .dataframe tbody tr th:only-of-type {\n",
       "        vertical-align: middle;\n",
       "    }\n",
       "\n",
       "    .dataframe tbody tr th {\n",
       "        vertical-align: top;\n",
       "    }\n",
       "\n",
       "    .dataframe thead th {\n",
       "        text-align: right;\n",
       "    }\n",
       "</style>\n",
       "<table border=\"1\" class=\"dataframe\">\n",
       "  <thead>\n",
       "    <tr style=\"text-align: right;\">\n",
       "      <th></th>\n",
       "      <th>Status</th>\n",
       "      <th>Title</th>\n",
       "      <th>Position</th>\n",
       "      <th>Company</th>\n",
       "      <th>Job.Description</th>\n",
       "    </tr>\n",
       "  </thead>\n",
       "  <tbody>\n",
       "    <tr>\n",
       "      <th>64119</th>\n",
       "      <td>open</td>\n",
       "      <td>Site Director @ Knowledge Universe</td>\n",
       "      <td>Site Director</td>\n",
       "      <td>Knowledge Universe</td>\n",
       "      <td>Job Summary Knowledge Universe (KU) Site Direc...</td>\n",
       "    </tr>\n",
       "    <tr>\n",
       "      <th>35827</th>\n",
       "      <td>open</td>\n",
       "      <td>Administrative Assistant @ OfficeTeam</td>\n",
       "      <td>Administrative Assistant</td>\n",
       "      <td>OfficeTeam</td>\n",
       "      <td>Ref ID: 03110-118480Classification: Secretary/...</td>\n",
       "    </tr>\n",
       "    <tr>\n",
       "      <th>72100</th>\n",
       "      <td>open</td>\n",
       "      <td>Account Manager @ CHI Payment Systems</td>\n",
       "      <td>Account Manager</td>\n",
       "      <td>CHI Payment Systems</td>\n",
       "      <td>If you&amp;rsquo;re energetic, motivated, hardwork...</td>\n",
       "    </tr>\n",
       "    <tr>\n",
       "      <th>46355</th>\n",
       "      <td>open</td>\n",
       "      <td>Outside Wholesale Sales Rep (PART-TIME) @ Rive...</td>\n",
       "      <td>Outside Wholesale Sales Rep (PART-TIME)</td>\n",
       "      <td>River Front Chrysler Jeep Dodge</td>\n",
       "      <td>OUTSIDE WHOLESALE SALES REP\\r\\n\\r\\nJob Respons...</td>\n",
       "    </tr>\n",
       "    <tr>\n",
       "      <th>34166</th>\n",
       "      <td>open</td>\n",
       "      <td>Customer Service Rep- Help People with Hearing...</td>\n",
       "      <td>Customer Service Rep- Help People with Hearing...</td>\n",
       "      <td>CaptionCall</td>\n",
       "      <td>CaptionCall® Communication Assistant    Imagi...</td>\n",
       "    </tr>\n",
       "  </tbody>\n",
       "</table>\n",
       "</div>"
      ],
      "text/plain": [
       "      Status                                              Title  \\\n",
       "64119   open                 Site Director @ Knowledge Universe   \n",
       "35827   open              Administrative Assistant @ OfficeTeam   \n",
       "72100   open              Account Manager @ CHI Payment Systems   \n",
       "46355   open  Outside Wholesale Sales Rep (PART-TIME) @ Rive...   \n",
       "34166   open  Customer Service Rep- Help People with Hearing...   \n",
       "\n",
       "                                                Position  \\\n",
       "64119                                      Site Director   \n",
       "35827                           Administrative Assistant   \n",
       "72100                                    Account Manager   \n",
       "46355            Outside Wholesale Sales Rep (PART-TIME)   \n",
       "34166  Customer Service Rep- Help People with Hearing...   \n",
       "\n",
       "                               Company  \\\n",
       "64119               Knowledge Universe   \n",
       "35827                       OfficeTeam   \n",
       "72100              CHI Payment Systems   \n",
       "46355  River Front Chrysler Jeep Dodge   \n",
       "34166                      CaptionCall   \n",
       "\n",
       "                                         Job.Description  \n",
       "64119  Job Summary Knowledge Universe (KU) Site Direc...  \n",
       "35827  Ref ID: 03110-118480Classification: Secretary/...  \n",
       "72100  If you&rsquo;re energetic, motivated, hardwork...  \n",
       "46355  OUTSIDE WHOLESALE SALES REP\\r\\n\\r\\nJob Respons...  \n",
       "34166   CaptionCall® Communication Assistant    Imagi...  "
      ]
     },
     "execution_count": 17,
     "metadata": {},
     "output_type": "execute_result"
    }
   ],
   "source": [
    "df.head()"
   ]
  },
  {
   "cell_type": "code",
   "execution_count": 23,
   "id": "cf09a3f0",
   "metadata": {},
   "outputs": [
    {
     "name": "stderr",
     "output_type": "stream",
     "text": [
      "[nltk_data] Downloading package stopwords to\n",
      "[nltk_data]     C:\\Users\\hp\\AppData\\Roaming\\nltk_data...\n",
      "[nltk_data]   Package stopwords is already up-to-date!\n"
     ]
    },
    {
     "data": {
      "text/plain": [
       "True"
      ]
     },
     "execution_count": 23,
     "metadata": {},
     "output_type": "execute_result"
    }
   ],
   "source": [
    "import nltk\n",
    "nltk.download('stopwords')"
   ]
  },
  {
   "cell_type": "code",
   "execution_count": 19,
   "id": "fe6b942b",
   "metadata": {},
   "outputs": [
    {
     "name": "stdout",
     "output_type": "stream",
     "text": [
      "Defaulting to user installation because normal site-packages is not writeable\n",
      "Requirement already satisfied: nltk in c:\\programdata\\anaconda3\\lib\\site-packages (3.7)\n",
      "Requirement already satisfied: tqdm in c:\\programdata\\anaconda3\\lib\\site-packages (from nltk) (4.64.1)\n",
      "Requirement already satisfied: joblib in c:\\programdata\\anaconda3\\lib\\site-packages (from nltk) (1.1.1)\n",
      "Requirement already satisfied: click in c:\\programdata\\anaconda3\\lib\\site-packages (from nltk) (8.0.4)\n",
      "Requirement already satisfied: regex>=2021.8.3 in c:\\programdata\\anaconda3\\lib\\site-packages (from nltk) (2022.7.9)\n",
      "Requirement already satisfied: colorama in c:\\programdata\\anaconda3\\lib\\site-packages (from click->nltk) (0.4.6)\n"
     ]
    }
   ],
   "source": [
    "!pip install nltk"
   ]
  },
  {
   "cell_type": "code",
   "execution_count": 20,
   "id": "25c0c422",
   "metadata": {},
   "outputs": [],
   "source": [
    "from nltk.corpus import stopwords\n",
    "import nltk\n",
    "import re\n",
    "from nltk.stem.porter import PorterStemmer\n",
    "ps = PorterStemmer()"
   ]
  },
  {
   "cell_type": "code",
   "execution_count": 29,
   "id": "f293b9b3",
   "metadata": {},
   "outputs": [
    {
     "data": {
      "text/plain": [
       "(1000, 5)"
      ]
     },
     "execution_count": 29,
     "metadata": {},
     "output_type": "execute_result"
    }
   ],
   "source": [
    "df.shape"
   ]
  },
  {
   "cell_type": "code",
   "execution_count": 44,
   "id": "7e6e17fa",
   "metadata": {},
   "outputs": [],
   "source": [
    "import re\n",
    "def remove_tags(raw_text):\n",
    "    cleaned_text = re.sub(re.compile('<.*?>'), '', raw_text)\n",
    "    return cleaned_text"
   ]
  },
  {
   "cell_type": "code",
   "execution_count": 46,
   "id": "8050a4f2",
   "metadata": {},
   "outputs": [],
   "source": [
    "df['clean_text'] = df['clean_text'].apply(remove_tags)"
   ]
  },
  {
   "cell_type": "code",
   "execution_count": 60,
   "id": "101293e9",
   "metadata": {},
   "outputs": [],
   "source": [
    "df['clean_text'] = df['clean_text'].apply(lambda x:x.lower())"
   ]
  },
  {
   "cell_type": "code",
   "execution_count": 48,
   "id": "0b190fb3",
   "metadata": {},
   "outputs": [],
   "source": [
    "def cleaning(txt):\n",
    "#     step 1\n",
    "    txt = re.sub(r'[^a-zA-Z0-9\\s]','',txt)\n",
    "    return txt\n"
   ]
  },
  {
   "cell_type": "code",
   "execution_count": 49,
   "id": "f46fb375",
   "metadata": {},
   "outputs": [],
   "source": [
    "df['clean_text'] = df['clean_text'].apply(cleaning)"
   ]
  },
  {
   "cell_type": "code",
   "execution_count": 61,
   "id": "0423517a",
   "metadata": {},
   "outputs": [
    {
     "data": {
      "text/plain": [
       "'Job Summary Knowledge Universe (KU) Site Directors are site leaders who inspire children and teachers alike to learn and grow. They are passionate about educational excellence, and confident teaching children and adults. They use our nationally recognized curriculum as a framework to create unique and engaging classroom experiences. They are committed to making their site successful and know that meaningful relationships with children, families, and their team are important to success. They are fully engaged, enthusiastic about their work, and eager to share their knowledge with others.  Job Responsibilities and Essential Functions These are the basic expectations for Site Directors. Of course, creative and new ways to meet or exceed expectations are encouraged, so long as the required essential functions are also met. •\\xa0\\xa0\\xa0\\xa0\\xa0\\xa0\\xa0\\xa0 supervision of children and staff  •\\xa0\\xa0\\xa0\\xa0\\xa0\\xa0\\xa0\\xa0 record keeping  •\\xa0\\xa0\\xa0\\xa0\\xa0\\xa0\\xa0\\xa0 licensing records and child files  •\\xa0\\xa0\\xa0\\xa0\\xa0\\xa0\\xa0\\xa0 lesson planning and implementation  •\\xa0\\xa0\\xa0\\xa0\\xa0\\xa0\\xa0\\xa0 maintenance of safe and welcoming classroom environment  •\\xa0\\xa0\\xa0\\xa0\\xa0\\xa0\\xa0\\xa0 building of relationships with the community and school  •\\xa0\\xa0\\xa0\\xa0\\xa0\\xa0\\xa0\\xa0 recruiting new students to the program  •\\xa0\\xa0\\xa0\\xa0\\xa0\\xa0\\xa0\\xa0 applicant must have strong organizational skills  Site Director @ Knowledge UniverseSite Director'"
      ]
     },
     "execution_count": 61,
     "metadata": {},
     "output_type": "execute_result"
    }
   ],
   "source": [
    "df['clean_text'] = df['Job.Description']+\" \"+df['Title']+df['Position']\n",
    "df['clean_text'][64119]"
   ]
  },
  {
   "cell_type": "markdown",
   "id": "656cd7ee",
   "metadata": {},
   "source": [
    "# feature engineering and vectorization"
   ]
  },
  {
   "cell_type": "code",
   "execution_count": 50,
   "id": "dd6b164c",
   "metadata": {},
   "outputs": [],
   "source": [
    "from sklearn.feature_extraction.text import TfidfVectorizer\n",
    "from sklearn.metrics.pairwise import cosine_similarity"
   ]
  },
  {
   "cell_type": "code",
   "execution_count": 62,
   "id": "ecacdee7",
   "metadata": {},
   "outputs": [],
   "source": [
    "tfidf = TfidfVectorizer(stop_words='english')\n",
    "matrix = tfidf.fit_transform(df['clean_text'])\n",
    "similarity = cosine_similarity(matrix)"
   ]
  },
  {
   "cell_type": "code",
   "execution_count": 63,
   "id": "37233cf1",
   "metadata": {},
   "outputs": [
    {
     "data": {
      "text/plain": [
       "array([1.00000000e+00, 4.31671308e-02, 1.58432305e-02, 1.21482558e-02,\n",
       "       4.01245422e-02, 7.88732705e-03, 2.74066608e-02, 2.74195261e-02,\n",
       "       5.16345712e-03, 3.11051513e-02, 1.47386272e-02, 2.23152697e-02,\n",
       "       1.25219748e-02, 1.19885077e-02, 4.00203478e-03, 3.59117929e-03,\n",
       "       1.94493733e-02, 3.10100808e-02, 3.37108945e-02, 1.84587729e-02,\n",
       "       0.00000000e+00, 1.68105196e-02, 1.62527184e-02, 3.95609231e-03,\n",
       "       3.55352228e-02, 2.87972097e-02, 3.04566045e-02, 1.64991873e-02,\n",
       "       1.31122702e-02, 3.43830453e-02, 1.22969201e-02, 3.73035701e-02,\n",
       "       4.91143692e-03, 2.68868006e-02, 5.83783005e-03, 3.06915236e-02,\n",
       "       1.28647954e-02, 3.17706351e-02, 1.32034134e-01, 1.20719874e-02,\n",
       "       3.98869854e-02, 5.24235379e-03, 3.91040782e-03, 3.37064364e-02,\n",
       "       2.32907363e-02, 3.14812288e-02, 5.71832518e-02, 1.51970830e-02,\n",
       "       3.03927528e-02, 0.00000000e+00, 5.11906834e-03, 1.55236015e-02,\n",
       "       9.00478498e-02, 1.25741640e-02, 2.25091690e-02, 3.16132491e-03,\n",
       "       4.13340553e-02, 5.39144950e-02, 9.82425069e-03, 1.11672765e-01,\n",
       "       3.51198948e-02, 3.49668328e-03, 2.57420637e-02, 3.17694880e-02,\n",
       "       4.31286854e-02, 6.14776068e-03, 1.51752321e-02, 2.48080700e-02,\n",
       "       1.24858335e-02, 3.86998281e-02, 6.27656382e-03, 0.00000000e+00,\n",
       "       7.87614309e-02, 1.27370417e-02, 2.69632856e-02, 1.28135621e-02,\n",
       "       2.54184334e-02, 1.14224225e-02, 7.96836462e-03, 2.64268621e-02,\n",
       "       1.68614974e-02, 4.53674105e-01, 8.30455572e-03, 1.55291615e-02,\n",
       "       3.40424358e-02, 2.09809915e-02, 1.29707616e-02, 2.30753995e-02,\n",
       "       2.18496533e-02, 2.63076608e-02, 3.28442619e-02, 4.48047103e-03,\n",
       "       2.47760909e-02, 2.08462160e-02, 5.26352017e-02, 4.25161545e-03,\n",
       "       4.23508896e-02, 2.46677827e-02, 1.72837464e-02, 9.69930431e-03,\n",
       "       1.46723683e-02, 1.24947129e-02, 1.43862455e-02, 1.04356783e-03,\n",
       "       2.03429063e-02, 2.81948765e-02, 2.03429063e-02, 7.03482094e-03,\n",
       "       1.06666110e-02, 0.00000000e+00, 6.04112948e-02, 1.81080421e-02,\n",
       "       5.02271738e-02, 9.71897250e-02, 1.07978271e-01, 7.04051186e-02,\n",
       "       0.00000000e+00, 2.20276840e-02, 8.95024234e-03, 7.38545188e-03,\n",
       "       3.37752756e-02, 4.01529027e-02, 3.20674772e-02, 1.46326811e-02,\n",
       "       8.12224459e-02, 8.34555049e-03, 2.32907363e-02, 6.91771667e-03,\n",
       "       2.10341237e-01, 9.04386619e-03, 1.68369399e-02, 1.78615768e-02,\n",
       "       4.17114663e-02, 2.52786383e-02, 5.34297066e-02, 6.82214952e-02,\n",
       "       2.39234240e-02, 0.00000000e+00, 9.76230179e-03, 1.41163766e-02,\n",
       "       3.12252209e-03, 2.62039644e-02, 6.23228647e-03, 2.16475408e-02,\n",
       "       8.32752990e-03, 5.39228760e-03, 1.26439247e-02, 3.54842720e-02,\n",
       "       1.89902153e-02, 4.42049215e-02, 0.00000000e+00, 1.33993939e-02,\n",
       "       3.50190648e-02, 5.15875146e-03, 1.68723594e-02, 5.06581332e-03,\n",
       "       1.01616793e-02, 5.05648083e-02, 3.35248933e-02, 2.65963921e-02,\n",
       "       3.69071294e-02, 3.00072574e-02, 1.78913551e-03, 4.14080889e-02,\n",
       "       9.54929954e-03, 9.63418377e-03, 0.00000000e+00, 2.51145108e-02,\n",
       "       3.03806893e-02, 1.61751563e-02, 4.13430255e-03, 1.04811138e-02,\n",
       "       9.66387807e-03, 3.43830453e-02, 1.69863627e-03, 3.43830453e-02,\n",
       "       3.61257726e-02, 1.76480997e-02, 2.55395358e-02, 1.53169335e-02,\n",
       "       3.51408232e-02, 8.16434412e-03, 1.05904477e-02, 0.00000000e+00,\n",
       "       2.05372932e-02, 2.01127583e-02, 3.37108945e-02, 2.53524229e-02,\n",
       "       1.60718573e-02, 2.75567378e-02, 4.87838059e-03, 2.08387937e-02,\n",
       "       0.00000000e+00, 4.95565413e-02, 2.18634662e-02, 1.12984717e-01,\n",
       "       4.56816607e-02, 2.84545073e-02, 5.08305513e-02, 1.13829152e-02,\n",
       "       1.71151911e-02, 7.90751201e-03, 3.10537674e-02, 2.82353954e-02,\n",
       "       3.01548113e-02, 6.92596150e-02, 2.53293742e-02, 4.45147230e-02,\n",
       "       3.34283646e-02, 3.99392519e-02, 3.66952587e-02, 7.75222229e-03,\n",
       "       2.42393277e-02, 3.75120983e-02, 2.72673877e-02, 1.57736302e-02,\n",
       "       6.11581734e-02, 2.31922727e-03, 2.96891392e-02, 1.24262332e-02,\n",
       "       4.42049215e-02, 4.15895877e-02, 1.94415217e-02, 3.63118577e-02,\n",
       "       3.66000943e-02, 1.72458425e-02, 3.06468311e-03, 2.02060338e-02,\n",
       "       0.00000000e+00, 5.60288418e-02, 3.49668328e-03, 1.14467246e-02,\n",
       "       7.42387765e-03, 2.47694664e-02, 2.63966367e-02, 2.41563812e-02,\n",
       "       4.08722041e-03, 4.42049215e-02, 2.33581350e-03, 2.45661059e-02,\n",
       "       1.65763039e-02, 2.14010326e-02, 1.99559177e-02, 7.08504076e-03,\n",
       "       2.19224494e-02, 1.24562543e-01, 4.27620421e-02, 5.03947970e-02,\n",
       "       9.68109286e-03, 7.40574838e-03, 4.99864999e-02, 4.21513957e-02,\n",
       "       2.32162139e-01, 9.75680131e-03, 1.05621310e-01, 2.24833579e-02,\n",
       "       1.68832385e-02, 4.08786141e-02, 4.10546845e-02, 2.04421894e-02,\n",
       "       1.49455577e-02, 3.90335850e-02, 5.23891495e-02, 3.74817018e-02,\n",
       "       1.86562199e-02, 1.21097332e-02, 2.50392233e-02, 7.34489748e-03,\n",
       "       4.05455958e-03, 5.27540141e-02, 1.38531475e-03, 9.53437740e-03,\n",
       "       4.15899378e-03, 2.12362789e-02, 3.66952587e-02, 6.53546741e-02,\n",
       "       9.72297819e-01, 3.43830453e-02, 0.00000000e+00, 1.04430454e-02,\n",
       "       3.54488941e-02, 3.64969350e-02, 7.88047921e-03, 4.95505995e-02,\n",
       "       1.12179752e-01, 3.51562028e-02, 0.00000000e+00, 1.89114326e-02,\n",
       "       2.34333142e-02, 1.50259336e-02, 4.51465626e-02, 1.11645430e-02,\n",
       "       1.99559177e-02, 7.01399874e-02, 1.19465772e-02, 5.11192670e-02,\n",
       "       1.60288677e-02, 8.92166623e-03, 1.17801832e-01, 7.22023859e-03,\n",
       "       3.16959273e-02, 4.64333417e-03, 1.76491466e-02, 4.44052213e-02,\n",
       "       3.42403676e-02, 1.44720582e-02, 1.08561390e-03, 2.24833579e-02,\n",
       "       1.51132417e-02, 1.50259336e-02, 2.50629146e-02, 1.66647368e-02,\n",
       "       6.80107162e-02, 6.17803987e-02, 3.43830453e-02, 1.41192195e-02,\n",
       "       6.03557245e-02, 1.34588479e-02, 3.41771750e-02, 1.01317214e-01,\n",
       "       3.57081823e-02, 5.33650595e-02, 8.03363926e-03, 1.19667682e-02,\n",
       "       1.83803415e-02, 6.58826929e-03, 1.21284817e-01, 4.49219113e-02,\n",
       "       3.43830453e-02, 7.14112518e-03, 1.56426456e-02, 6.16370622e-02,\n",
       "       4.27264962e-02, 3.91679248e-03, 1.94299539e-02, 1.31215012e-02,\n",
       "       5.21274584e-02, 2.55163430e-02, 6.11572439e-02, 1.98574569e-02,\n",
       "       4.22809377e-03, 8.21719748e-02, 2.85299613e-02, 3.85517108e-02,\n",
       "       3.24505997e-02, 1.85675521e-03, 1.51123689e-03, 8.02866690e-02,\n",
       "       0.00000000e+00, 4.73719715e-02, 4.97125551e-03, 5.82932822e-02,\n",
       "       1.14467246e-02, 4.27501804e-03, 3.48176022e-02, 6.67290926e-02,\n",
       "       3.49473243e-03, 1.73648068e-03, 2.09926314e-02, 2.92500376e-02,\n",
       "       1.39489932e-01, 3.45154295e-02, 8.68573180e-02, 6.83443284e-02,\n",
       "       2.19224494e-02, 2.19368886e-02, 3.91343760e-02, 2.05870742e-02,\n",
       "       4.42049215e-02, 3.28442619e-02, 3.28211768e-02, 3.59800742e-02,\n",
       "       2.42069513e-02, 2.59938831e-02, 4.11055869e-02, 2.14223420e-02,\n",
       "       0.00000000e+00, 1.10882263e-02, 1.86310842e-02, 1.38675216e-02,\n",
       "       2.68868006e-02, 5.77642532e-02, 1.99330480e-02, 1.56658169e-02,\n",
       "       2.74526236e-02, 2.74282007e-02, 2.75924640e-02, 1.90051022e-03,\n",
       "       5.06581332e-03, 3.10135837e-02, 7.24785527e-03, 9.42411437e-03,\n",
       "       3.30442847e-02, 4.42049215e-02, 5.62693261e-02, 8.78007595e-02,\n",
       "       3.41899052e-03, 3.65100160e-02, 7.84594120e-02, 1.37955005e-02,\n",
       "       5.51026465e-02, 3.12071658e-02, 2.84538920e-02, 3.50832970e-02,\n",
       "       3.10135837e-02, 5.19037403e-03, 7.13965831e-03, 5.73758331e-02,\n",
       "       1.63743738e-02, 4.59248157e-03, 2.00680436e-02, 2.24833579e-02,\n",
       "       4.42879992e-02, 5.84204203e-02, 3.43830453e-02, 4.32383549e-03,\n",
       "       3.51638993e-02, 1.21067950e-02, 7.38048069e-03, 5.46435656e-03,\n",
       "       3.46371075e-02, 5.13341619e-03, 9.40930649e-03, 3.75115619e-03,\n",
       "       4.89537488e-02, 3.21884057e-02, 2.60356634e-02, 3.01704941e-02,\n",
       "       3.43830453e-02, 4.18463595e-02, 3.71669574e-03, 2.57511539e-02,\n",
       "       4.60406549e-02, 8.51247083e-02, 7.82295180e-03, 1.03649807e-02,\n",
       "       6.93480681e-03, 5.86251108e-02, 1.03103370e-02, 4.09968046e-02,\n",
       "       2.02851020e-02, 9.24555692e-03, 6.62243936e-03, 1.69580562e-02,\n",
       "       0.00000000e+00, 4.53440248e-02, 1.56426456e-02, 2.19784755e-02,\n",
       "       2.21044650e-02, 0.00000000e+00, 4.03587947e-02, 3.08702881e-02,\n",
       "       1.88191519e-03, 9.73333581e-03, 1.01731041e-02, 1.94870320e-02,\n",
       "       5.27261118e-02, 5.40710471e-02, 2.43705566e-02, 1.04811138e-02,\n",
       "       2.75908663e-02, 4.55250057e-02, 1.34443675e-02, 2.24785203e-02,\n",
       "       3.40096730e-02, 3.20850337e-02, 3.05427423e-02, 5.20599058e-02,\n",
       "       8.39584642e-02, 1.01021734e-01, 3.88255210e-02, 3.39778854e-03,\n",
       "       1.88944469e-02, 8.42615595e-03, 9.42411437e-03, 3.96783296e-02,\n",
       "       6.95210783e-03, 3.13539287e-02, 1.35697990e-02, 7.75468876e-03,\n",
       "       2.89876516e-02, 4.92642405e-02, 2.31462761e-02, 3.28442619e-02,\n",
       "       2.77641389e-02, 4.86989110e-02, 2.07644382e-02, 2.18848152e-02,\n",
       "       7.69164377e-02, 1.46392817e-02, 1.17056898e-02, 6.78047553e-02,\n",
       "       3.11051513e-02, 8.16081450e-03, 1.27133114e-02, 3.38350680e-03,\n",
       "       9.31066849e-03, 3.18981204e-02, 1.01767912e-02, 2.53293742e-02,\n",
       "       1.08337753e-02, 7.95844752e-03, 9.33577752e-03, 3.43830453e-02,\n",
       "       1.20036739e-02, 3.43830453e-02, 1.48196591e-02, 1.45243636e-02,\n",
       "       0.00000000e+00, 3.31629701e-02, 1.23968561e-02, 2.90059241e-02,\n",
       "       0.00000000e+00, 4.47435730e-03, 1.04444109e-02, 5.29729849e-02,\n",
       "       1.36231955e-02, 4.06053769e-02, 1.59801842e-02, 3.69596878e-02,\n",
       "       5.75222803e-02, 3.43071242e-02, 2.07556301e-02, 0.00000000e+00,\n",
       "       1.02244313e-02, 1.05121195e-02, 1.56587737e-02, 5.06202114e-02,\n",
       "       5.14622285e-02, 7.57521332e-03, 3.28442619e-02, 3.85746374e-02,\n",
       "       3.76772334e-02, 1.81903977e-02, 1.98824200e-02, 1.89305002e-02,\n",
       "       3.84951441e-02, 6.52675642e-03, 3.75200340e-02, 9.78816761e-02,\n",
       "       1.29400287e-02, 6.20056614e-03, 2.04303709e-02, 0.00000000e+00,\n",
       "       2.92032271e-02, 6.53976199e-03, 5.27002864e-03, 3.66952587e-02,\n",
       "       6.00837931e-02, 0.00000000e+00, 4.96895971e-03, 1.74360662e-02,\n",
       "       1.50502910e-02, 1.10911727e-02, 2.62870288e-02, 6.11228698e-03,\n",
       "       9.56562944e-02, 2.29133843e-02, 1.00976611e-02, 4.12133322e-02,\n",
       "       0.00000000e+00, 5.37614807e-03, 1.02227809e-02, 2.24833579e-02,\n",
       "       2.49909510e-02, 4.34484513e-02, 1.26122962e-03, 2.58445856e-02,\n",
       "       6.90569980e-03, 1.14614177e-02, 1.95795913e-02, 3.37471600e-02,\n",
       "       5.52504552e-02, 3.79935525e-02, 1.09102517e-02, 1.24785848e-02,\n",
       "       3.20299760e-03, 0.00000000e+00, 5.56937691e-03, 1.55280182e-02,\n",
       "       1.09460217e-02, 1.21251952e-02, 8.14102211e-02, 3.85698927e-02,\n",
       "       5.26384318e-02, 8.30053887e-03, 9.81660491e-03, 3.60748895e-03,\n",
       "       3.56979829e-03, 0.00000000e+00, 5.23827678e-03, 1.87264083e-02,\n",
       "       3.03104773e-02, 3.76644717e-02, 3.58159493e-02, 4.23894927e-02,\n",
       "       2.20068122e-02, 3.43487580e-02, 3.48838459e-03, 1.11740135e-02,\n",
       "       3.49668328e-03, 4.59680883e-03, 5.55508747e-02, 4.87800605e-02,\n",
       "       3.09280582e-02, 9.61993663e-03, 1.59427973e-02, 1.34664166e-02,\n",
       "       1.07327616e-02, 9.69930431e-03, 5.52061600e-02, 1.72033558e-02,\n",
       "       1.78910574e-02, 4.99864999e-02, 1.21259899e-02, 3.48184038e-02,\n",
       "       4.48370982e-02, 8.80988826e-03, 1.08347122e-02, 0.00000000e+00,\n",
       "       0.00000000e+00, 1.39431574e-02, 3.91539727e-02, 9.30866790e-03,\n",
       "       1.33646202e-02, 4.80899568e-02, 1.76148448e-02, 2.49013457e-02,\n",
       "       2.56018366e-03, 1.60752179e-01, 7.68269169e-03, 2.03429063e-02,\n",
       "       3.73498515e-02, 1.88049225e-03, 0.00000000e+00, 4.72993271e-02,\n",
       "       1.31179204e-02, 5.07262108e-03, 0.00000000e+00, 2.43097258e-02,\n",
       "       7.16018712e-03, 3.91905106e-02, 3.87111668e-02, 2.62658098e-02,\n",
       "       6.10756288e-02, 2.39291282e-02, 1.88578782e-02, 2.23309649e-02,\n",
       "       3.80271479e-02, 1.62262160e-02, 5.24648388e-03, 8.11835269e-03,\n",
       "       3.83841680e-03, 1.47386272e-02, 2.07480860e-03, 9.65327796e-02,\n",
       "       2.18954860e-03, 7.22521546e-03, 9.00478498e-02, 4.81017053e-02,\n",
       "       2.53314724e-03, 1.28547253e-02, 1.16059394e-02, 2.79616784e-02,\n",
       "       2.60288799e-02, 1.00016611e-01, 1.15808267e-02, 1.24015068e-02,\n",
       "       0.00000000e+00, 2.82966951e-02, 6.85035786e-02, 4.43406447e-02,\n",
       "       6.91910400e-03, 2.53293742e-02, 2.75659502e-03, 1.86772401e-02,\n",
       "       3.55141637e-02, 7.28558968e-03, 2.74928257e-02, 6.70870518e-02,\n",
       "       4.12982732e-02, 1.89488318e-02, 8.61497479e-03, 1.78126560e-02,\n",
       "       5.16071162e-03, 0.00000000e+00, 1.26439121e-02, 3.96617459e-02,\n",
       "       5.44541796e-02, 1.51733376e-02, 9.68927592e-03, 4.74483594e-03,\n",
       "       1.90382258e-02, 0.00000000e+00, 1.17685457e-02, 2.92015593e-02,\n",
       "       7.62705743e-02, 2.50523561e-02, 5.44361444e-02, 2.99641035e-02,\n",
       "       6.27956531e-03, 4.60322351e-02, 2.43017879e-02, 3.62565222e-02,\n",
       "       9.94945697e-03, 3.04444311e-02, 2.78058477e-02, 5.64234322e-03,\n",
       "       3.96921959e-02, 2.45181530e-02, 4.33871186e-02, 9.45842324e-03,\n",
       "       3.29728533e-02, 1.60992257e-02, 1.87593714e-02, 5.17485354e-03,\n",
       "       1.61041013e-02, 7.75278805e-03, 5.76052827e-02, 3.49202192e-02,\n",
       "       5.71965234e-03, 3.18651467e-02, 2.50994291e-03, 4.85593369e-02,\n",
       "       2.38928234e-02, 2.46677827e-02, 1.47369534e-02, 9.82425069e-03,\n",
       "       3.88219685e-02, 9.42411437e-03, 4.69345562e-01, 1.66235688e-02,\n",
       "       7.79551207e-02, 3.10287810e-02, 9.04065528e-02, 1.90334389e-02,\n",
       "       3.15027540e-02, 1.38132125e-02, 5.75360007e-03, 5.09065595e-02,\n",
       "       5.05648083e-02, 4.69427697e-02, 0.00000000e+00, 1.45288229e-02,\n",
       "       5.76052827e-02, 0.00000000e+00, 2.47546877e-02, 2.99853967e-02,\n",
       "       1.49319852e-02, 4.31286854e-02, 0.00000000e+00, 1.87082364e-02,\n",
       "       1.91219766e-02, 3.10876196e-02, 5.24194990e-03, 6.48859080e-03,\n",
       "       8.35217066e-02, 1.26272032e-02, 3.96036621e-02, 2.44347992e-02,\n",
       "       2.84015483e-02, 4.39325897e-02, 2.53293742e-02, 1.12242689e-02,\n",
       "       4.15428203e-03, 1.31848838e-02, 2.01396557e-02, 1.56194627e-02,\n",
       "       0.00000000e+00, 2.69632856e-02, 3.33588125e-02, 4.89033905e-03,\n",
       "       6.95210783e-03, 2.08812383e-02, 5.93082069e-03, 2.65511788e-02,\n",
       "       1.81047326e-02, 1.48168076e-02, 1.51695074e-02, 2.63954727e-02,\n",
       "       3.63185872e-02, 2.24833579e-02, 2.06071219e-02, 6.42583055e-03,\n",
       "       0.00000000e+00, 1.56860722e-02, 1.11734074e-03, 0.00000000e+00,\n",
       "       3.67608849e-02, 2.84988463e-02, 3.68412399e-02, 1.77523176e-02,\n",
       "       2.00327407e-02, 1.42033012e-02, 4.87577603e-02, 1.08561390e-03,\n",
       "       1.04009465e-02, 3.24444622e-02, 5.38262903e-02, 0.00000000e+00,\n",
       "       1.09951037e-02, 1.03601851e-02, 1.23089873e-02, 6.02367447e-02,\n",
       "       2.22229025e-02, 1.18329813e-02, 2.48837348e-02, 1.66014201e-02,\n",
       "       3.61686773e-02, 4.44917031e-02, 1.04444109e-02, 5.83093146e-02,\n",
       "       3.10135837e-02, 0.00000000e+00, 8.43602534e-03, 0.00000000e+00,\n",
       "       2.58214332e-02, 2.62871682e-02, 5.88457912e-04, 5.37816832e-02,\n",
       "       0.00000000e+00, 1.36671602e-02, 2.99605114e-02, 1.08450639e-02,\n",
       "       3.96036621e-02, 1.50858394e-01, 3.98685872e-03, 1.54852637e-02,\n",
       "       7.21330505e-03, 4.42049215e-02, 4.13387542e-02, 8.78655980e-03,\n",
       "       6.03949392e-02, 1.59806684e-02, 3.28442619e-02, 0.00000000e+00,\n",
       "       1.61565444e-02, 0.00000000e+00, 4.87959618e-03, 4.90903797e-02,\n",
       "       4.22953923e-02, 4.53028681e-02, 3.36457120e-02, 3.37628447e-03,\n",
       "       2.84559395e-03, 1.53796823e-02, 2.87366302e-03, 6.02400461e-02,\n",
       "       1.38252453e-02, 5.33246555e-02, 4.51495847e-02, 2.68240723e-02,\n",
       "       1.72608423e-02, 3.20927912e-02, 4.20107996e-02, 0.00000000e+00,\n",
       "       2.83972260e-02, 1.00251603e-01, 3.93198979e-02, 3.28442619e-02,\n",
       "       1.44600351e-02, 6.81027650e-03, 3.71347807e-02, 6.44216689e-02,\n",
       "       3.51241767e-03, 8.97913604e-02, 1.33314196e-02, 4.28667089e-03,\n",
       "       3.96200984e-02, 8.79208776e-03, 2.59938831e-02, 6.67175635e-03,\n",
       "       1.86966685e-02, 2.86288439e-02, 9.77745596e-03, 3.32433804e-02,\n",
       "       6.08896567e-03, 4.42049215e-02, 9.55897808e-03, 3.37471600e-02,\n",
       "       9.76230179e-03, 2.66483114e-02, 3.22697325e-02, 1.01551329e-02,\n",
       "       4.62078718e-02, 0.00000000e+00, 7.21098572e-02, 1.91389947e-02,\n",
       "       4.76939474e-03, 3.96036621e-02, 1.04982517e-01, 3.47123704e-02,\n",
       "       5.70591788e-02, 3.75322152e-02, 2.54404286e-02, 2.83564450e-02,\n",
       "       1.17240921e-02, 1.24833585e-02, 4.14069117e-02, 1.12168986e-02,\n",
       "       0.00000000e+00, 2.21473483e-02, 5.13524879e-03, 5.58768002e-02,\n",
       "       8.39741233e-02, 4.42049215e-02, 5.57743580e-02, 9.23535093e-03,\n",
       "       2.30348919e-02, 1.69051598e-02, 3.85746374e-02, 1.81605909e-03,\n",
       "       1.84889208e-02, 1.47030000e-02, 0.00000000e+00, 2.82006211e-02,\n",
       "       4.03735026e-02, 4.53674105e-01, 2.83823888e-02, 3.75507722e-02,\n",
       "       1.40702249e-03, 9.55517629e-03, 3.18509969e-02, 2.23028515e-02,\n",
       "       2.24833579e-02, 3.05675714e-02, 3.49668328e-03, 3.29917283e-02,\n",
       "       1.38978571e-02, 1.01156162e-02, 2.11740361e-03, 2.65766766e-02,\n",
       "       1.81271589e-02, 1.07494752e-02, 1.67585788e-02, 3.83704351e-02,\n",
       "       9.05140225e-03, 1.04523381e-02, 1.34270407e-02, 3.10964879e-03,\n",
       "       4.72973426e-02, 4.28352573e-02, 5.43299870e-03, 2.37778119e-03,\n",
       "       1.94437415e-02, 2.05229184e-02, 3.43830453e-02, 3.98690844e-02,\n",
       "       5.10752874e-02, 1.18305379e-02, 1.42197290e-02, 1.63630118e-02,\n",
       "       1.14614177e-02, 1.47386272e-02, 1.31812575e-02, 1.80106129e-02,\n",
       "       8.91851149e-03, 4.11235486e-02, 2.63499837e-02, 6.17803987e-02,\n",
       "       2.92817298e-02, 2.19045909e-02, 1.03700106e-02, 3.80354436e-02,\n",
       "       2.59616737e-02, 1.01639482e-01, 7.83885847e-03, 3.37295842e-02,\n",
       "       1.22904935e-02, 1.77281002e-02, 2.73447152e-02, 3.05094684e-02,\n",
       "       3.41556924e-02, 2.35100953e-02, 1.04672426e-02, 4.97807625e-02,\n",
       "       1.00749032e-02, 1.47386272e-02, 2.53040118e-02, 1.04641080e-02,\n",
       "       2.08114696e-02, 1.82832201e-02, 5.57046685e-02, 2.40156964e-03,\n",
       "       7.63988934e-03, 1.06793784e-02, 0.00000000e+00, 1.02413109e-02,\n",
       "       0.00000000e+00, 3.59987742e-02, 1.42337094e-02, 2.49790638e-02,\n",
       "       4.66441513e-02, 5.64350651e-02, 1.52213746e-02, 3.43830453e-02,\n",
       "       1.58169421e-02, 3.42245885e-02, 2.35519712e-02, 5.78705734e-02])"
      ]
     },
     "execution_count": 63,
     "metadata": {},
     "output_type": "execute_result"
    }
   ],
   "source": [
    "similarity[0]"
   ]
  },
  {
   "cell_type": "code",
   "execution_count": 64,
   "id": "6c1d9a50",
   "metadata": {},
   "outputs": [
    {
     "data": {
      "text/plain": [
       "[(276, 0.9722978191534403),\n",
       " (730, 0.46934556239894065),\n",
       " (81, 0.45367410518365264),\n",
       " (917, 0.45367410518365264),\n",
       " (252, 0.23216213857943935),\n",
       " (128, 0.2103412366151445),\n",
       " (629, 0.16075217918132761),\n",
       " (825, 0.15085839382029045),\n",
       " (360, 0.13948993213260905),\n",
       " (38, 0.1320341335055304),\n",
       " (245, 0.12456254264617571),\n",
       " (326, 0.1212848168047901),\n",
       " (298, 0.11780183176064217),\n",
       " (195, 0.11298471725820095),\n",
       " (284, 0.11217975216761909),\n",
       " (59, 0.11167276537417432),\n",
       " (114, 0.10797827058611764),\n",
       " (254, 0.10562131035812325),\n",
       " (890, 0.10498251733474127)]"
      ]
     },
     "execution_count": 64,
     "metadata": {},
     "output_type": "execute_result"
    }
   ],
   "source": [
    "sorted(list(enumerate(similarity[0])), key=lambda x: x[1], reverse=True)[1:20]"
   ]
  },
  {
   "cell_type": "markdown",
   "id": "33519635",
   "metadata": {},
   "source": [
    "# recommendation system"
   ]
  },
  {
   "cell_type": "code",
   "execution_count": 65,
   "id": "297c6fa4",
   "metadata": {},
   "outputs": [],
   "source": [
    "def recommend(title):\n",
    "\n",
    "        indx = df[df['Title'] == title].index[0]\n",
    "        indx = df.index.get_loc(indx)\n",
    "        distances = sorted(list(enumerate(similarity[indx])), key=lambda x: x[1], reverse=True)[1:20]\n",
    "\n",
    "        jobs = []\n",
    "        for i in distances:\n",
    "            jobs.append(df.iloc[i[0]].Title)\n",
    "        return jobs\n",
    "        "
   ]
  },
  {
   "cell_type": "markdown",
   "id": "5133235f",
   "metadata": {},
   "source": [
    "# evalution model"
   ]
  },
  {
   "cell_type": "code",
   "execution_count": 66,
   "id": "09401b7b",
   "metadata": {},
   "outputs": [
    {
     "data": {
      "text/plain": [
       "['Administrative Assistant @ OfficeTeam',\n",
       " 'Administrative Assistant @ OfficeTeam',\n",
       " 'Administrative Assistant @ OfficeTeam',\n",
       " 'Administrative Assistant @ OfficeTeam',\n",
       " 'Administrative Assistant @ OfficeTeam',\n",
       " 'Administrative Assistant For Non-Profit @ OfficeTeam',\n",
       " 'Administrative Assistant - Long term potential @ OfficeTeam',\n",
       " 'Administrative Assistant @ OfficeTeam',\n",
       " 'Administrative Assistant @ OfficeTeam',\n",
       " 'Administrative Assistant @ OfficeTeam',\n",
       " 'Administrative Assistant @ OfficeTeam',\n",
       " 'Executive Administrative Assistant @ OfficeTeam',\n",
       " 'Administrative Assistant @ OfficeTeam',\n",
       " 'Part Time Organizational Guru @ OfficeTeam',\n",
       " 'Sales Assistant @ OfficeTeam',\n",
       " 'TEMPORARY Administrative Assistant needed ASAP! @ OfficeTeam',\n",
       " 'Administrative Assistant @ OfficeTeam',\n",
       " 'Administrative Assistant @ OfficeTeam',\n",
       " 'Administrative Assistant @ OfficeTeam']"
      ]
     },
     "execution_count": 66,
     "metadata": {},
     "output_type": "execute_result"
    }
   ],
   "source": [
    "recommend('Administrative Assistant @ OfficeTeam')\n"
   ]
  },
  {
   "cell_type": "code",
   "execution_count": 67,
   "id": "a85212e7",
   "metadata": {},
   "outputs": [
    {
     "data": {
      "text/plain": [
       "64119                   Site Director @ Knowledge Universe\n",
       "35827                Administrative Assistant @ OfficeTeam\n",
       "72100                Account Manager @ CHI Payment Systems\n",
       "46355    Outside Wholesale Sales Rep (PART-TIME) @ Rive...\n",
       "34166    Customer Service Rep- Help People with Hearing...\n",
       "                               ...                        \n",
       "66282    Sales Representative / Sales Associate ( Entry...\n",
       "39515                       Staff Accountant @ Accountemps\n",
       "69231    Unarmed Security Officer @ US Security Associates\n",
       "69618    Line Cook @ Crowne Plaza- Independently Owned ...\n",
       "6144     Kitchen Manager Job Details @ The Artesian Hot...\n",
       "Name: Title, Length: 1000, dtype: object"
      ]
     },
     "execution_count": 67,
     "metadata": {},
     "output_type": "execute_result"
    }
   ],
   "source": [
    "df['Title']"
   ]
  },
  {
   "cell_type": "markdown",
   "id": "81f95404",
   "metadata": {},
   "source": [
    "# model deployment"
   ]
  },
  {
   "cell_type": "code",
   "execution_count": 69,
   "id": "6286087f",
   "metadata": {},
   "outputs": [],
   "source": [
    "import pickle\n",
    "pickle.dump(df,open('df.pkl','wb'))\n",
    "pickle.dump(similarity,open('similarity.pkl','wb'))"
   ]
  },
  {
   "cell_type": "code",
   "execution_count": null,
   "id": "e8a0a4f8",
   "metadata": {},
   "outputs": [],
   "source": []
  }
 ],
 "metadata": {
  "kernelspec": {
   "display_name": "Python 3 (ipykernel)",
   "language": "python",
   "name": "python3"
  },
  "language_info": {
   "codemirror_mode": {
    "name": "ipython",
    "version": 3
   },
   "file_extension": ".py",
   "mimetype": "text/x-python",
   "name": "python",
   "nbconvert_exporter": "python",
   "pygments_lexer": "ipython3",
   "version": "3.10.9"
  }
 },
 "nbformat": 4,
 "nbformat_minor": 5
}
