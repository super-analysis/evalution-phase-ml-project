{
 "cells": [
  {
   "cell_type": "markdown",
   "id": "5d7c9f6c",
   "metadata": {},
   "source": [
    "# linear regression"
   ]
  },
  {
   "cell_type": "raw",
   "id": "7ea953a3",
   "metadata": {},
   "source": [
    "strat-\n",
    "dataselection-\n",
    "datadescription-\n",
    "perform stats and graphical data analysis-\n",
    "data transformation-\n",
    "selection machine learning algorithim based in eda-\n",
    "data standarization and normaization-\n",
    "creation test antrain data-\n",
    "calculate model accuracy-\n",
    "better accuracy model using hyperparameter-\n",
    "saved the model-\n",
    "deployment the model-\n",
    "production deployment and testing-\n",
    "finalizing and retraining report-\n",
    "logging and monitering-\n",
    "dashboard report-\n",
    "stop-\n",
    "\n"
   ]
  },
  {
   "cell_type": "markdown",
   "id": "873b6a39",
   "metadata": {},
   "source": [
    "# regression problem"
   ]
  },
  {
   "cell_type": "markdown",
   "id": "1dff16f0",
   "metadata": {},
   "source": [
    "two or more variable linear relationship "
   ]
  },
  {
   "cell_type": "markdown",
   "id": "bf1319e5",
   "metadata": {},
   "source": [
    "# regression problem"
   ]
  },
  {
   "cell_type": "markdown",
   "id": "3d39556d",
   "metadata": {},
   "source": [
    "dependent variable is to be continue like numerical"
   ]
  },
  {
   "cell_type": "raw",
   "id": "24c7dd70",
   "metadata": {},
   "source": [
    "independent variable = features\n",
    "dependent variable = target variable or predict features"
   ]
  },
  {
   "cell_type": "markdown",
   "id": "41e98282",
   "metadata": {},
   "source": [
    "# classification problem"
   ]
  },
  {
   "cell_type": "markdown",
   "id": "041a406e",
   "metadata": {},
   "source": [
    "predict the categorical variable"
   ]
  },
  {
   "cell_type": "markdown",
   "id": "09323af8",
   "metadata": {},
   "source": [
    "like yes or no,pass or fail,0 or 1"
   ]
  },
  {
   "cell_type": "markdown",
   "id": "4160d627",
   "metadata": {},
   "source": [
    "# all  machine algorithim use bothe regression and classification"
   ]
  },
  {
   "cell_type": "raw",
   "id": "4e3f8b26",
   "metadata": {},
   "source": [
    "linear regression = perticular use regression probleb.\n",
    "\n",
    "logistic regression = only binary classification(0,1,pass or fail)\n",
    "\n",
    "knn knneighor = both regression and classification\n",
    "\n",
    "decision tree = both regression and classification\n",
    "\n",
    "random forest = both regression and classification\n",
    "\n",
    "support vector machine(svm) = regression and classification\n",
    "\n",
    "gradient boosting = both \n",
    "\n",
    "xtream gradient boosting = both classifier and regression\n",
    "\n",
    "bagging = both \n"
   ]
  },
  {
   "cell_type": "markdown",
   "id": "4aeac35d",
   "metadata": {},
   "source": [
    "# Linear regression "
   ]
  },
  {
   "cell_type": "raw",
   "id": "6ea79166",
   "metadata": {},
   "source": [
    "y = mx +c\n",
    "\n",
    "y = dependent variable (predict features or target variable)\n",
    "\n",
    "m = slop\n",
    "\n",
    "c= intercept\n"
   ]
  },
  {
   "cell_type": "code",
   "execution_count": 1,
   "id": "76a3342d",
   "metadata": {},
   "outputs": [],
   "source": [
    "from pandas.plotting import scatter_matrix"
   ]
  },
  {
   "cell_type": "code",
   "execution_count": 2,
   "id": "7ac2d298",
   "metadata": {},
   "outputs": [],
   "source": [
    "import pandas as pd\n",
    "import numpy as np\n",
    "import matplotlib.pyplot as plt\n",
    "import seaborn as sns\n",
    "#from pandas.plotting import sacatter_matrix\n",
    "%matplotlib inline\n",
    "import pickle\n",
    "import warnings\n",
    "warnings.filterwarnings('ignore')"
   ]
  },
  {
   "cell_type": "code",
   "execution_count": 3,
   "id": "cdb43212",
   "metadata": {},
   "outputs": [],
   "source": [
    "df = pd.DataFrame({'age':[20,22,25,30,35,40,37],'exp':[1,2,3,4,5,5,4.5],'salry(in thousand)':[20,25,30,35,40,40,36]})"
   ]
  },
  {
   "cell_type": "code",
   "execution_count": 4,
   "id": "81871615",
   "metadata": {},
   "outputs": [
    {
     "data": {
      "text/html": [
       "<div>\n",
       "<style scoped>\n",
       "    .dataframe tbody tr th:only-of-type {\n",
       "        vertical-align: middle;\n",
       "    }\n",
       "\n",
       "    .dataframe tbody tr th {\n",
       "        vertical-align: top;\n",
       "    }\n",
       "\n",
       "    .dataframe thead th {\n",
       "        text-align: right;\n",
       "    }\n",
       "</style>\n",
       "<table border=\"1\" class=\"dataframe\">\n",
       "  <thead>\n",
       "    <tr style=\"text-align: right;\">\n",
       "      <th></th>\n",
       "      <th>age</th>\n",
       "      <th>exp</th>\n",
       "      <th>salry(in thousand)</th>\n",
       "    </tr>\n",
       "  </thead>\n",
       "  <tbody>\n",
       "    <tr>\n",
       "      <th>0</th>\n",
       "      <td>20</td>\n",
       "      <td>1.0</td>\n",
       "      <td>20</td>\n",
       "    </tr>\n",
       "    <tr>\n",
       "      <th>1</th>\n",
       "      <td>22</td>\n",
       "      <td>2.0</td>\n",
       "      <td>25</td>\n",
       "    </tr>\n",
       "    <tr>\n",
       "      <th>2</th>\n",
       "      <td>25</td>\n",
       "      <td>3.0</td>\n",
       "      <td>30</td>\n",
       "    </tr>\n",
       "    <tr>\n",
       "      <th>3</th>\n",
       "      <td>30</td>\n",
       "      <td>4.0</td>\n",
       "      <td>35</td>\n",
       "    </tr>\n",
       "    <tr>\n",
       "      <th>4</th>\n",
       "      <td>35</td>\n",
       "      <td>5.0</td>\n",
       "      <td>40</td>\n",
       "    </tr>\n",
       "    <tr>\n",
       "      <th>5</th>\n",
       "      <td>40</td>\n",
       "      <td>5.0</td>\n",
       "      <td>40</td>\n",
       "    </tr>\n",
       "    <tr>\n",
       "      <th>6</th>\n",
       "      <td>37</td>\n",
       "      <td>4.5</td>\n",
       "      <td>36</td>\n",
       "    </tr>\n",
       "  </tbody>\n",
       "</table>\n",
       "</div>"
      ],
      "text/plain": [
       "   age  exp  salry(in thousand)\n",
       "0   20  1.0                  20\n",
       "1   22  2.0                  25\n",
       "2   25  3.0                  30\n",
       "3   30  4.0                  35\n",
       "4   35  5.0                  40\n",
       "5   40  5.0                  40\n",
       "6   37  4.5                  36"
      ]
     },
     "execution_count": 4,
     "metadata": {},
     "output_type": "execute_result"
    }
   ],
   "source": [
    "df"
   ]
  },
  {
   "cell_type": "code",
   "execution_count": 5,
   "id": "35fed2f3",
   "metadata": {},
   "outputs": [
    {
     "data": {
      "text/plain": [
       "<AxesSubplot:xlabel='age', ylabel='exp'>"
      ]
     },
     "execution_count": 5,
     "metadata": {},
     "output_type": "execute_result"
    },
    {
     "data": {
      "image/png": "[encoded data removed]",
      "text/plain": [
       "<Figure size 432x288 with 1 Axes>"
      ]
     },
     "metadata": {
      "needs_background": "light"
     },
     "output_type": "display_data"
    }
   ],
   "source": [
    "# this data find relation by using graph\n",
    "df.plot.scatter(x='age',y='exp')"
   ]
  },
  {
   "cell_type": "code",
   "execution_count": 6,
   "id": "f33f92b2",
   "metadata": {},
   "outputs": [
    {
     "data": {
      "text/plain": [
       "<AxesSubplot:xlabel='age', ylabel='exp'>"
      ]
     },
     "execution_count": 6,
     "metadata": {},
     "output_type": "execute_result"
    },
    {
     "data": {
      "image/png": "[encoded data removed]",
      "text/plain": [
       "<Figure size 432x288 with 1 Axes>"
      ]
     },
     "metadata": {
      "needs_background": "light"
     },
     "output_type": "display_data"
    }
   ],
   "source": [
    "sns.scatterplot(x='age',y='exp',data=df)"
   ]
  },
  {
   "cell_type": "code",
   "execution_count": 7,
   "id": "59b126dd",
   "metadata": {},
   "outputs": [
    {
     "data": {
      "text/plain": [
       "<AxesSubplot:xlabel='age', ylabel='salry(in thousand)'>"
      ]
     },
     "execution_count": 7,
     "metadata": {},
     "output_type": "execute_result"
    },
    {
     "data": {
      "image/png": "[encoded data removed]",
      "text/plain": [
       "<Figure size 432x288 with 1 Axes>"
      ]
     },
     "metadata": {
      "needs_background": "light"
     },
     "output_type": "display_data"
    }
   ],
   "source": [
    "sns.scatterplot(x='age',y='salry(in thousand)',data=df)"
   ]
  },
  {
   "cell_type": "code",
   "execution_count": 8,
   "id": "b68741e1",
   "metadata": {},
   "outputs": [
    {
     "data": {
      "text/plain": [
       "<AxesSubplot:xlabel='exp', ylabel='salry(in thousand)'>"
      ]
     },
     "execution_count": 8,
     "metadata": {},
     "output_type": "execute_result"
    },
    {
     "data": {
      "image/png": "[encoded data removed]",
      "text/plain": [
       "<Figure size 432x288 with 1 Axes>"
      ]
     },
     "metadata": {
      "needs_background": "light"
     },
     "output_type": "display_data"
    }
   ],
   "source": [
    "sns.scatterplot(x='exp',y='salry(in thousand)',data=df)"
   ]
  },
  {
   "cell_type": "markdown",
   "id": "00c6cfdd",
   "metadata": {},
   "source": [
    "we can see proper in diagram thats all independent feature each other linearly relation.\n",
    "and along with dependent variable linearly relation "
   ]
  },
  {
   "cell_type": "markdown",
   "id": "3ec87619",
   "metadata": {},
   "source": [
    "# load the data"
   ]
  },
  {
   "cell_type": "markdown",
   "id": "bdc4a884",
   "metadata": {},
   "source": [
    "linear regression two tyes"
   ]
  },
  {
   "cell_type": "markdown",
   "id": "efc935c5",
   "metadata": {},
   "source": [
    "1)single feature or simple linear regression"
   ]
  },
  {
   "cell_type": "markdown",
   "id": "ea088a9f",
   "metadata": {},
   "source": [
    "2)multiple features or multi linear regression"
   ]
  },
  {
   "cell_type": "markdown",
   "id": "c30b63a5",
   "metadata": {},
   "source": [
    "# single or simple linear regression dicussed"
   ]
  },
  {
   "cell_type": "code",
   "execution_count": 9,
   "id": "addd9145",
   "metadata": {},
   "outputs": [],
   "source": [
    "df = pd.read_csv(\"C:\\\\Users\\\\Admin\\\\Desktop\\\\data csv file\\\\advertising.csv\")"
   ]
  },
  {
   "cell_type": "code",
   "execution_count": 10,
   "id": "e681a29e",
   "metadata": {},
   "outputs": [
    {
     "data": {
      "text/html": [
       "<div>\n",
       "<style scoped>\n",
       "    .dataframe tbody tr th:only-of-type {\n",
       "        vertical-align: middle;\n",
       "    }\n",
       "\n",
       "    .dataframe tbody tr th {\n",
       "        vertical-align: top;\n",
       "    }\n",
       "\n",
       "    .dataframe thead th {\n",
       "        text-align: right;\n",
       "    }\n",
       "</style>\n",
       "<table border=\"1\" class=\"dataframe\">\n",
       "  <thead>\n",
       "    <tr style=\"text-align: right;\">\n",
       "      <th></th>\n",
       "      <th>TV</th>\n",
       "      <th>radio</th>\n",
       "      <th>newspaper</th>\n",
       "      <th>sales</th>\n",
       "    </tr>\n",
       "  </thead>\n",
       "  <tbody>\n",
       "    <tr>\n",
       "      <th>1</th>\n",
       "      <td>230.1</td>\n",
       "      <td>37.8</td>\n",
       "      <td>69.2</td>\n",
       "      <td>22.1</td>\n",
       "    </tr>\n",
       "    <tr>\n",
       "      <th>2</th>\n",
       "      <td>44.5</td>\n",
       "      <td>39.3</td>\n",
       "      <td>45.1</td>\n",
       "      <td>10.4</td>\n",
       "    </tr>\n",
       "    <tr>\n",
       "      <th>3</th>\n",
       "      <td>17.2</td>\n",
       "      <td>45.9</td>\n",
       "      <td>69.3</td>\n",
       "      <td>9.3</td>\n",
       "    </tr>\n",
       "    <tr>\n",
       "      <th>4</th>\n",
       "      <td>151.5</td>\n",
       "      <td>41.3</td>\n",
       "      <td>58.5</td>\n",
       "      <td>18.5</td>\n",
       "    </tr>\n",
       "    <tr>\n",
       "      <th>5</th>\n",
       "      <td>180.8</td>\n",
       "      <td>10.8</td>\n",
       "      <td>58.4</td>\n",
       "      <td>12.9</td>\n",
       "    </tr>\n",
       "  </tbody>\n",
       "</table>\n",
       "</div>"
      ],
      "text/plain": [
       "      TV  radio  newspaper  sales\n",
       "1  230.1   37.8       69.2   22.1\n",
       "2   44.5   39.3       45.1   10.4\n",
       "3   17.2   45.9       69.3    9.3\n",
       "4  151.5   41.3       58.5   18.5\n",
       "5  180.8   10.8       58.4   12.9"
      ]
     },
     "execution_count": 10,
     "metadata": {},
     "output_type": "execute_result"
    }
   ],
   "source": [
    "df.head()"
   ]
  },
  {
   "cell_type": "markdown",
   "id": "39726071",
   "metadata": {},
   "source": [
    "# prob. statement"
   ]
  },
  {
   "cell_type": "markdown",
   "id": "49a56ddd",
   "metadata": {},
   "source": [
    "1)find the tv sales\n"
   ]
  },
  {
   "cell_type": "markdown",
   "id": "3076e62e",
   "metadata": {},
   "source": [
    "2)find the radio sales"
   ]
  },
  {
   "cell_type": "markdown",
   "id": "e2a91f49",
   "metadata": {},
   "source": [
    "3)find the newspaper sales"
   ]
  },
  {
   "cell_type": "markdown",
   "id": "57a39683",
   "metadata": {},
   "source": [
    "individullay investment sor we want to know how are the sales perticular sector"
   ]
  },
  {
   "cell_type": "markdown",
   "id": "39fafd81",
   "metadata": {},
   "source": [
    "# next process data descrption"
   ]
  },
  {
   "cell_type": "code",
   "execution_count": 11,
   "id": "9725d712",
   "metadata": {},
   "outputs": [
    {
     "data": {
      "text/plain": [
       "(200, 4)"
      ]
     },
     "execution_count": 11,
     "metadata": {},
     "output_type": "execute_result"
    }
   ],
   "source": [
    "df.shape"
   ]
  },
  {
   "cell_type": "markdown",
   "id": "52aad6b3",
   "metadata": {},
   "source": [
    "our data four columns and 200 row"
   ]
  },
  {
   "cell_type": "code",
   "execution_count": 12,
   "id": "f92d604b",
   "metadata": {},
   "outputs": [
    {
     "data": {
      "text/plain": [
       "Index(['TV', 'radio', 'newspaper', 'sales'], dtype='object')"
      ]
     },
     "execution_count": 12,
     "metadata": {},
     "output_type": "execute_result"
    }
   ],
   "source": [
    "df.columns#show the total columns"
   ]
  },
  {
   "cell_type": "code",
   "execution_count": 13,
   "id": "9db69420",
   "metadata": {},
   "outputs": [
    {
     "name": "stdout",
     "output_type": "stream",
     "text": [
      "<class 'pandas.core.frame.DataFrame'>\n",
      "Int64Index: 200 entries, 1 to 200\n",
      "Data columns (total 4 columns):\n",
      " #   Column     Non-Null Count  Dtype  \n",
      "---  ------     --------------  -----  \n",
      " 0   TV         200 non-null    float64\n",
      " 1   radio      200 non-null    float64\n",
      " 2   newspaper  200 non-null    float64\n",
      " 3   sales      200 non-null    float64\n",
      "dtypes: float64(4)\n",
      "memory usage: 7.8 KB\n"
     ]
    }
   ],
   "source": [
    "df.info()# check the data type"
   ]
  },
  {
   "cell_type": "markdown",
   "id": "c83cb3fd",
   "metadata": {},
   "source": [
    "my dataset having value float datatype"
   ]
  },
  {
   "cell_type": "code",
   "execution_count": 14,
   "id": "db91cdf4",
   "metadata": {},
   "outputs": [
    {
     "data": {
      "text/plain": [
       "TV           0\n",
       "radio        0\n",
       "newspaper    0\n",
       "sales        0\n",
       "dtype: int64"
      ]
     },
     "execution_count": 14,
     "metadata": {},
     "output_type": "execute_result"
    }
   ],
   "source": [
    "df.isnull().sum()"
   ]
  },
  {
   "cell_type": "markdown",
   "id": "30445f21",
   "metadata": {},
   "source": [
    "no null values"
   ]
  },
  {
   "cell_type": "code",
   "execution_count": 15,
   "id": "27e9ac88",
   "metadata": {},
   "outputs": [
    {
     "data": {
      "text/html": [
       "<div>\n",
       "<style scoped>\n",
       "    .dataframe tbody tr th:only-of-type {\n",
       "        vertical-align: middle;\n",
       "    }\n",
       "\n",
       "    .dataframe tbody tr th {\n",
       "        vertical-align: top;\n",
       "    }\n",
       "\n",
       "    .dataframe thead th {\n",
       "        text-align: right;\n",
       "    }\n",
       "</style>\n",
       "<table border=\"1\" class=\"dataframe\">\n",
       "  <thead>\n",
       "    <tr style=\"text-align: right;\">\n",
       "      <th></th>\n",
       "      <th>TV</th>\n",
       "      <th>radio</th>\n",
       "      <th>newspaper</th>\n",
       "      <th>sales</th>\n",
       "    </tr>\n",
       "  </thead>\n",
       "  <tbody>\n",
       "    <tr>\n",
       "      <th>count</th>\n",
       "      <td>200.000000</td>\n",
       "      <td>200.000000</td>\n",
       "      <td>200.000000</td>\n",
       "      <td>200.000000</td>\n",
       "    </tr>\n",
       "    <tr>\n",
       "      <th>mean</th>\n",
       "      <td>147.042500</td>\n",
       "      <td>23.264000</td>\n",
       "      <td>30.554000</td>\n",
       "      <td>14.022500</td>\n",
       "    </tr>\n",
       "    <tr>\n",
       "      <th>std</th>\n",
       "      <td>85.854236</td>\n",
       "      <td>14.846809</td>\n",
       "      <td>21.778621</td>\n",
       "      <td>5.217457</td>\n",
       "    </tr>\n",
       "    <tr>\n",
       "      <th>min</th>\n",
       "      <td>0.700000</td>\n",
       "      <td>0.000000</td>\n",
       "      <td>0.300000</td>\n",
       "      <td>1.600000</td>\n",
       "    </tr>\n",
       "    <tr>\n",
       "      <th>25%</th>\n",
       "      <td>74.375000</td>\n",
       "      <td>9.975000</td>\n",
       "      <td>12.750000</td>\n",
       "      <td>10.375000</td>\n",
       "    </tr>\n",
       "    <tr>\n",
       "      <th>50%</th>\n",
       "      <td>149.750000</td>\n",
       "      <td>22.900000</td>\n",
       "      <td>25.750000</td>\n",
       "      <td>12.900000</td>\n",
       "    </tr>\n",
       "    <tr>\n",
       "      <th>75%</th>\n",
       "      <td>218.825000</td>\n",
       "      <td>36.525000</td>\n",
       "      <td>45.100000</td>\n",
       "      <td>17.400000</td>\n",
       "    </tr>\n",
       "    <tr>\n",
       "      <th>max</th>\n",
       "      <td>296.400000</td>\n",
       "      <td>49.600000</td>\n",
       "      <td>114.000000</td>\n",
       "      <td>27.000000</td>\n",
       "    </tr>\n",
       "  </tbody>\n",
       "</table>\n",
       "</div>"
      ],
      "text/plain": [
       "               TV       radio   newspaper       sales\n",
       "count  200.000000  200.000000  200.000000  200.000000\n",
       "mean   147.042500   23.264000   30.554000   14.022500\n",
       "std     85.854236   14.846809   21.778621    5.217457\n",
       "min      0.700000    0.000000    0.300000    1.600000\n",
       "25%     74.375000    9.975000   12.750000   10.375000\n",
       "50%    149.750000   22.900000   25.750000   12.900000\n",
       "75%    218.825000   36.525000   45.100000   17.400000\n",
       "max    296.400000   49.600000  114.000000   27.000000"
      ]
     },
     "execution_count": 15,
     "metadata": {},
     "output_type": "execute_result"
    }
   ],
   "source": [
    "df.describe()"
   ]
  },
  {
   "cell_type": "markdown",
   "id": "9e53be01",
   "metadata": {},
   "source": [
    "find the stats soution"
   ]
  },
  {
   "cell_type": "markdown",
   "id": "f1659eab",
   "metadata": {},
   "source": [
    "# stats and graphical data analysis"
   ]
  },
  {
   "cell_type": "markdown",
   "id": "9811ed8b",
   "metadata": {},
   "source": [
    "# check the outlier"
   ]
  },
  {
   "cell_type": "code",
   "execution_count": 16,
   "id": "bd3cf580",
   "metadata": {},
   "outputs": [
    {
     "data": {
      "text/plain": [
       "<AxesSubplot:>"
      ]
     },
     "execution_count": 16,
     "metadata": {},
     "output_type": "execute_result"
    },
    {
     "data": {
      "image/png": "[encoded data removed]",
      "text/plain": [
       "<Figure size 432x288 with 1 Axes>"
      ]
     },
     "metadata": {
      "needs_background": "light"
     },
     "output_type": "display_data"
    }
   ],
   "source": [
    "sns.boxplot(data=df)"
   ]
  },
  {
   "cell_type": "code",
   "execution_count": 17,
   "id": "c0c04dbd",
   "metadata": {},
   "outputs": [
    {
     "data": {
      "text/plain": [
       "count    200.000000\n",
       "mean     147.042500\n",
       "std       85.854236\n",
       "min        0.700000\n",
       "25%       74.375000\n",
       "50%      149.750000\n",
       "75%      218.825000\n",
       "max      296.400000\n",
       "Name: TV, dtype: float64"
      ]
     },
     "execution_count": 17,
     "metadata": {},
     "output_type": "execute_result"
    }
   ],
   "source": [
    "df['TV'].describe()"
   ]
  },
  {
   "cell_type": "code",
   "execution_count": 18,
   "id": "26570473",
   "metadata": {},
   "outputs": [
    {
     "data": {
      "text/plain": [
       "count    200.000000\n",
       "mean      23.264000\n",
       "std       14.846809\n",
       "min        0.000000\n",
       "25%        9.975000\n",
       "50%       22.900000\n",
       "75%       36.525000\n",
       "max       49.600000\n",
       "Name: radio, dtype: float64"
      ]
     },
     "execution_count": 18,
     "metadata": {},
     "output_type": "execute_result"
    }
   ],
   "source": [
    "df['radio'].describe()"
   ]
  },
  {
   "cell_type": "code",
   "execution_count": 19,
   "id": "cf78d4ff",
   "metadata": {},
   "outputs": [
    {
     "data": {
      "text/plain": [
       "count    200.000000\n",
       "mean      30.554000\n",
       "std       21.778621\n",
       "min        0.300000\n",
       "25%       12.750000\n",
       "50%       25.750000\n",
       "75%       45.100000\n",
       "max      114.000000\n",
       "Name: newspaper, dtype: float64"
      ]
     },
     "execution_count": 19,
     "metadata": {},
     "output_type": "execute_result"
    }
   ],
   "source": [
    "df['newspaper'].describe()"
   ]
  },
  {
   "cell_type": "markdown",
   "id": "4ac58921",
   "metadata": {},
   "source": [
    "we can see newspaper having some outliers"
   ]
  },
  {
   "cell_type": "code",
   "execution_count": 20,
   "id": "e4c32b31",
   "metadata": {},
   "outputs": [
    {
     "name": "stdout",
     "output_type": "stream",
     "text": [
      "Highest allowed 95.8898625155685\n",
      "Lowest allowed -34.7818625155685\n"
     ]
    }
   ],
   "source": [
    "print('Highest allowed',df['newspaper'].mean()+3*df['newspaper'].std())\n",
    "print('Lowest allowed',df['newspaper'].mean()-3*df['newspaper'].std())"
   ]
  },
  {
   "cell_type": "code",
   "execution_count": 21,
   "id": "c3a29e73",
   "metadata": {},
   "outputs": [],
   "source": [
    "df = df[(df['newspaper']<95.8898)&(df['newspaper']>-34.7818625155685 )]"
   ]
  },
  {
   "cell_type": "code",
   "execution_count": 22,
   "id": "5bfa44cd",
   "metadata": {},
   "outputs": [
    {
     "data": {
      "text/plain": [
       "count    198.000000\n",
       "mean      29.777273\n",
       "std       20.446303\n",
       "min        0.300000\n",
       "25%       12.650000\n",
       "50%       25.600000\n",
       "75%       44.050000\n",
       "max       89.400000\n",
       "Name: newspaper, dtype: float64"
      ]
     },
     "execution_count": 22,
     "metadata": {},
     "output_type": "execute_result"
    }
   ],
   "source": [
    "df['newspaper'].describe()"
   ]
  },
  {
   "cell_type": "code",
   "execution_count": 23,
   "id": "99e8f17b",
   "metadata": {},
   "outputs": [
    {
     "data": {
      "text/plain": [
       "<AxesSubplot:xlabel='newspaper'>"
      ]
     },
     "execution_count": 23,
     "metadata": {},
     "output_type": "execute_result"
    },
    {
     "data": {
      "image/png": "[encoded data removed]",
      "text/plain": [
       "<Figure size 432x288 with 1 Axes>"
      ]
     },
     "metadata": {
      "needs_background": "light"
     },
     "output_type": "display_data"
    }
   ],
   "source": [
    "sns.boxplot(df['newspaper'])"
   ]
  },
  {
   "cell_type": "markdown",
   "id": "ae93bb85",
   "metadata": {},
   "source": [
    "oh good i removed outliers from newspaper "
   ]
  },
  {
   "cell_type": "code",
   "execution_count": 24,
   "id": "31725d6f",
   "metadata": {},
   "outputs": [
    {
     "data": {
      "text/html": [
       "<div>\n",
       "<style scoped>\n",
       "    .dataframe tbody tr th:only-of-type {\n",
       "        vertical-align: middle;\n",
       "    }\n",
       "\n",
       "    .dataframe tbody tr th {\n",
       "        vertical-align: top;\n",
       "    }\n",
       "\n",
       "    .dataframe thead th {\n",
       "        text-align: right;\n",
       "    }\n",
       "</style>\n",
       "<table border=\"1\" class=\"dataframe\">\n",
       "  <thead>\n",
       "    <tr style=\"text-align: right;\">\n",
       "      <th></th>\n",
       "      <th>TV</th>\n",
       "      <th>radio</th>\n",
       "      <th>newspaper</th>\n",
       "      <th>sales</th>\n",
       "    </tr>\n",
       "  </thead>\n",
       "  <tbody>\n",
       "    <tr>\n",
       "      <th>count</th>\n",
       "      <td>198.000000</td>\n",
       "      <td>198.000000</td>\n",
       "      <td>198.000000</td>\n",
       "      <td>198.000000</td>\n",
       "    </tr>\n",
       "    <tr>\n",
       "      <th>mean</th>\n",
       "      <td>146.688384</td>\n",
       "      <td>23.130808</td>\n",
       "      <td>29.777273</td>\n",
       "      <td>13.980808</td>\n",
       "    </tr>\n",
       "    <tr>\n",
       "      <th>std</th>\n",
       "      <td>85.443221</td>\n",
       "      <td>14.862111</td>\n",
       "      <td>20.446303</td>\n",
       "      <td>5.196097</td>\n",
       "    </tr>\n",
       "    <tr>\n",
       "      <th>min</th>\n",
       "      <td>0.700000</td>\n",
       "      <td>0.000000</td>\n",
       "      <td>0.300000</td>\n",
       "      <td>1.600000</td>\n",
       "    </tr>\n",
       "    <tr>\n",
       "      <th>25%</th>\n",
       "      <td>74.800000</td>\n",
       "      <td>9.925000</td>\n",
       "      <td>12.650000</td>\n",
       "      <td>10.325000</td>\n",
       "    </tr>\n",
       "    <tr>\n",
       "      <th>50%</th>\n",
       "      <td>149.750000</td>\n",
       "      <td>22.400000</td>\n",
       "      <td>25.600000</td>\n",
       "      <td>12.900000</td>\n",
       "    </tr>\n",
       "    <tr>\n",
       "      <th>75%</th>\n",
       "      <td>218.475000</td>\n",
       "      <td>36.325000</td>\n",
       "      <td>44.050000</td>\n",
       "      <td>17.375000</td>\n",
       "    </tr>\n",
       "    <tr>\n",
       "      <th>max</th>\n",
       "      <td>293.600000</td>\n",
       "      <td>49.600000</td>\n",
       "      <td>89.400000</td>\n",
       "      <td>27.000000</td>\n",
       "    </tr>\n",
       "  </tbody>\n",
       "</table>\n",
       "</div>"
      ],
      "text/plain": [
       "               TV       radio   newspaper       sales\n",
       "count  198.000000  198.000000  198.000000  198.000000\n",
       "mean   146.688384   23.130808   29.777273   13.980808\n",
       "std     85.443221   14.862111   20.446303    5.196097\n",
       "min      0.700000    0.000000    0.300000    1.600000\n",
       "25%     74.800000    9.925000   12.650000   10.325000\n",
       "50%    149.750000   22.400000   25.600000   12.900000\n",
       "75%    218.475000   36.325000   44.050000   17.375000\n",
       "max    293.600000   49.600000   89.400000   27.000000"
      ]
     },
     "execution_count": 24,
     "metadata": {},
     "output_type": "execute_result"
    }
   ],
   "source": [
    "df.describe()"
   ]
  },
  {
   "cell_type": "markdown",
   "id": "cee396a7",
   "metadata": {},
   "source": [
    "# check the relation"
   ]
  },
  {
   "cell_type": "code",
   "execution_count": 25,
   "id": "b72ef86f",
   "metadata": {},
   "outputs": [
    {
     "data": {
      "image/png": "[encoded data removed]",
      "text/plain": [
       "<Figure size 432x288 with 3 Axes>"
      ]
     },
     "metadata": {
      "needs_background": "light"
     },
     "output_type": "display_data"
    },
    {
     "data": {
      "text/plain": [
       "<Figure size 1800x1440 with 0 Axes>"
      ]
     },
     "metadata": {},
     "output_type": "display_data"
    }
   ],
   "source": [
    "fig ,axs = plt.subplots(1,3)\n",
    "plt.figure(figsize=(25,20))\n",
    "df.plot(kind='scatter',x='TV',y='sales',ax=axs[0])\n",
    "df.plot(kind='scatter',x='radio',y='sales',ax=axs[1])\n",
    "df.plot(kind='scatter',x='newspaper',y='sales',ax=axs[2])\n",
    "fig.savefig('data.jpg')\n",
    "plt.show()"
   ]
  },
  {
   "cell_type": "markdown",
   "id": "ca866a17",
   "metadata": {},
   "source": [
    "we can see tv~sales linear realtion"
   ]
  },
  {
   "cell_type": "markdown",
   "id": "ee2e21de",
   "metadata": {},
   "source": [
    "we can see radio~sales linear relation"
   ]
  },
  {
   "cell_type": "markdown",
   "id": "534829a0",
   "metadata": {},
   "source": [
    "but we can see newspaper~sales not linear realtion"
   ]
  },
  {
   "cell_type": "markdown",
   "id": "50fbb60a",
   "metadata": {},
   "source": [
    "# check the distribution"
   ]
  },
  {
   "cell_type": "code",
   "execution_count": 26,
   "id": "0dc14b2e",
   "metadata": {},
   "outputs": [
    {
     "data": {
      "text/plain": [
       "<AxesSubplot:xlabel='TV', ylabel='Density'>"
      ]
     },
     "execution_count": 26,
     "metadata": {},
     "output_type": "execute_result"
    },
    {
     "data": {
      "image/png": "[encoded data removed]",
      "text/plain": [
       "<Figure size 432x288 with 1 Axes>"
      ]
     },
     "metadata": {
      "needs_background": "light"
     },
     "output_type": "display_data"
    }
   ],
   "source": [
    "sns.distplot(df['TV'])"
   ]
  },
  {
   "cell_type": "code",
   "execution_count": 27,
   "id": "eca4f4a3",
   "metadata": {},
   "outputs": [
    {
     "data": {
      "text/plain": [
       "<AxesSubplot:xlabel='radio', ylabel='Density'>"
      ]
     },
     "execution_count": 27,
     "metadata": {},
     "output_type": "execute_result"
    },
    {
     "data": {
      "image/png": "[encoded data removed]",
      "text/plain": [
       "<Figure size 432x288 with 1 Axes>"
      ]
     },
     "metadata": {
      "needs_background": "light"
     },
     "output_type": "display_data"
    }
   ],
   "source": [
    "sns.distplot(df['radio'])"
   ]
  },
  {
   "cell_type": "code",
   "execution_count": 28,
   "id": "ef7851fb",
   "metadata": {},
   "outputs": [
    {
     "data": {
      "text/plain": [
       "<AxesSubplot:xlabel='newspaper', ylabel='Density'>"
      ]
     },
     "execution_count": 28,
     "metadata": {},
     "output_type": "execute_result"
    },
    {
     "data": {
      "image/png": "[encoded data removed]",
      "text/plain": [
       "<Figure size 432x288 with 1 Axes>"
      ]
     },
     "metadata": {
      "needs_background": "light"
     },
     "output_type": "display_data"
    }
   ],
   "source": [
    "sns.distplot(df['newspaper'])"
   ]
  },
  {
   "cell_type": "markdown",
   "id": "5783a346",
   "metadata": {},
   "source": [
    "follow the normal distribution"
   ]
  },
  {
   "cell_type": "markdown",
   "id": "3b911c2b",
   "metadata": {},
   "source": [
    "# check the correlation"
   ]
  },
  {
   "cell_type": "code",
   "execution_count": 29,
   "id": "a3359d31",
   "metadata": {},
   "outputs": [
    {
     "data": {
      "text/html": [
       "<div>\n",
       "<style scoped>\n",
       "    .dataframe tbody tr th:only-of-type {\n",
       "        vertical-align: middle;\n",
       "    }\n",
       "\n",
       "    .dataframe tbody tr th {\n",
       "        vertical-align: top;\n",
       "    }\n",
       "\n",
       "    .dataframe thead th {\n",
       "        text-align: right;\n",
       "    }\n",
       "</style>\n",
       "<table border=\"1\" class=\"dataframe\">\n",
       "  <thead>\n",
       "    <tr style=\"text-align: right;\">\n",
       "      <th></th>\n",
       "      <th>TV</th>\n",
       "      <th>radio</th>\n",
       "      <th>newspaper</th>\n",
       "      <th>sales</th>\n",
       "    </tr>\n",
       "  </thead>\n",
       "  <tbody>\n",
       "    <tr>\n",
       "      <th>TV</th>\n",
       "      <td>1.000000</td>\n",
       "      <td>0.051978</td>\n",
       "      <td>0.049771</td>\n",
       "      <td>0.779121</td>\n",
       "    </tr>\n",
       "    <tr>\n",
       "      <th>radio</th>\n",
       "      <td>0.051978</td>\n",
       "      <td>1.000000</td>\n",
       "      <td>0.346364</td>\n",
       "      <td>0.576748</td>\n",
       "    </tr>\n",
       "    <tr>\n",
       "      <th>newspaper</th>\n",
       "      <td>0.049771</td>\n",
       "      <td>0.346364</td>\n",
       "      <td>1.000000</td>\n",
       "      <td>0.219555</td>\n",
       "    </tr>\n",
       "    <tr>\n",
       "      <th>sales</th>\n",
       "      <td>0.779121</td>\n",
       "      <td>0.576748</td>\n",
       "      <td>0.219555</td>\n",
       "      <td>1.000000</td>\n",
       "    </tr>\n",
       "  </tbody>\n",
       "</table>\n",
       "</div>"
      ],
      "text/plain": [
       "                 TV     radio  newspaper     sales\n",
       "TV         1.000000  0.051978   0.049771  0.779121\n",
       "radio      0.051978  1.000000   0.346364  0.576748\n",
       "newspaper  0.049771  0.346364   1.000000  0.219555\n",
       "sales      0.779121  0.576748   0.219555  1.000000"
      ]
     },
     "execution_count": 29,
     "metadata": {},
     "output_type": "execute_result"
    }
   ],
   "source": [
    "df.corr()"
   ]
  },
  {
   "cell_type": "code",
   "execution_count": 30,
   "id": "1b93b9c5",
   "metadata": {},
   "outputs": [],
   "source": [
    "#correlation b/w 0.8to -0.8"
   ]
  },
  {
   "cell_type": "code",
   "execution_count": 31,
   "id": "92a7f3da",
   "metadata": {},
   "outputs": [
    {
     "data": {
      "text/plain": [
       "<AxesSubplot:>"
      ]
     },
     "execution_count": 31,
     "metadata": {},
     "output_type": "execute_result"
    },
    {
     "data": {
      "image/png": "[encoded data removed]",
      "text/plain": [
       "<Figure size 432x288 with 2 Axes>"
      ]
     },
     "metadata": {
      "needs_background": "light"
     },
     "output_type": "display_data"
    }
   ],
   "source": [
    "sns.heatmap(df.corr(),annot=True)"
   ]
  },
  {
   "cell_type": "code",
   "execution_count": 32,
   "id": "30c4efb7",
   "metadata": {},
   "outputs": [],
   "source": [
    "#correlation fit for lie range b/w 0.8 to -0.8"
   ]
  },
  {
   "cell_type": "code",
   "execution_count": 33,
   "id": "29f05576",
   "metadata": {},
   "outputs": [],
   "source": [
    "#y = mx + c\n",
    "#x = independent variable\n",
    "#m = coefficent"
   ]
  },
  {
   "cell_type": "code",
   "execution_count": 34,
   "id": "7f4e7923",
   "metadata": {},
   "outputs": [],
   "source": [
    "#best fit line or regression line\n",
    "#resudual or error = actual value-predict value"
   ]
  },
  {
   "cell_type": "markdown",
   "id": "ed0769d2",
   "metadata": {},
   "source": [
    "# gradient descent"
   ]
  },
  {
   "cell_type": "markdown",
   "id": "e9404ba1",
   "metadata": {},
   "source": [
    "learning rate to arrive global minima"
   ]
  },
  {
   "cell_type": "code",
   "execution_count": 35,
   "id": "f89e83ec",
   "metadata": {},
   "outputs": [],
   "source": [
    "x = df[['TV']]\n",
    "y = df.sales\n"
   ]
  },
  {
   "cell_type": "code",
   "execution_count": 36,
   "id": "8a7a7c2b",
   "metadata": {},
   "outputs": [],
   "source": [
    "from sklearn.linear_model import LinearRegression"
   ]
  },
  {
   "cell_type": "code",
   "execution_count": 37,
   "id": "94359fdf",
   "metadata": {},
   "outputs": [],
   "source": [
    "lr = LinearRegression()"
   ]
  },
  {
   "cell_type": "code",
   "execution_count": 38,
   "id": "c98fcd01",
   "metadata": {},
   "outputs": [
    {
     "data": {
      "text/plain": [
       "LinearRegression()"
      ]
     },
     "execution_count": 38,
     "metadata": {},
     "output_type": "execute_result"
    }
   ],
   "source": [
    "lr.fit(x,y)"
   ]
  },
  {
   "cell_type": "markdown",
   "id": "cc7be470",
   "metadata": {},
   "source": [
    "# find intercept and coef"
   ]
  },
  {
   "cell_type": "code",
   "execution_count": 39,
   "id": "6b37ea3f",
   "metadata": {},
   "outputs": [
    {
     "data": {
      "text/plain": [
       "array([0.04738103])"
      ]
     },
     "execution_count": 39,
     "metadata": {},
     "output_type": "execute_result"
    }
   ],
   "source": [
    "lr.coef_"
   ]
  },
  {
   "cell_type": "code",
   "execution_count": 40,
   "id": "5393f52b",
   "metadata": {},
   "outputs": [
    {
     "data": {
      "text/plain": [
       "7.030561456400218"
      ]
     },
     "execution_count": 40,
     "metadata": {},
     "output_type": "execute_result"
    }
   ],
   "source": [
    "lr.intercept_"
   ]
  },
  {
   "cell_type": "markdown",
   "id": "356c0df6",
   "metadata": {},
   "source": [
    "# interpeting model"
   ]
  },
  {
   "cell_type": "code",
   "execution_count": 41,
   "id": "b5f22ecd",
   "metadata": {},
   "outputs": [],
   "source": [
    "#y = mx +c\n",
    "y = 0.04738103*230.1+7.030561456"
   ]
  },
  {
   "cell_type": "code",
   "execution_count": 42,
   "id": "0abf2d63",
   "metadata": {},
   "outputs": [
    {
     "data": {
      "text/plain": [
       "17.932936459"
      ]
     },
     "execution_count": 42,
     "metadata": {},
     "output_type": "execute_result"
    }
   ],
   "source": [
    "y"
   ]
  },
  {
   "cell_type": "code",
   "execution_count": 43,
   "id": "40da8e90",
   "metadata": {},
   "outputs": [],
   "source": [
    "actual_value = 20.0\n",
    "predict_value = 17.93\n"
   ]
  },
  {
   "cell_type": "code",
   "execution_count": 44,
   "id": "e92999c8",
   "metadata": {},
   "outputs": [],
   "source": [
    "rasidual = actual_value-predict_value"
   ]
  },
  {
   "cell_type": "code",
   "execution_count": 45,
   "id": "989eb8bb",
   "metadata": {},
   "outputs": [
    {
     "data": {
      "text/plain": [
       "2.0700000000000003"
      ]
     },
     "execution_count": 45,
     "metadata": {},
     "output_type": "execute_result"
    }
   ],
   "source": [
    "rasidual"
   ]
  },
  {
   "cell_type": "code",
   "execution_count": 46,
   "id": "cb772665",
   "metadata": {},
   "outputs": [
    {
     "data": {
      "text/html": [
       "<div>\n",
       "<style scoped>\n",
       "    .dataframe tbody tr th:only-of-type {\n",
       "        vertical-align: middle;\n",
       "    }\n",
       "\n",
       "    .dataframe tbody tr th {\n",
       "        vertical-align: top;\n",
       "    }\n",
       "\n",
       "    .dataframe thead th {\n",
       "        text-align: right;\n",
       "    }\n",
       "</style>\n",
       "<table border=\"1\" class=\"dataframe\">\n",
       "  <thead>\n",
       "    <tr style=\"text-align: right;\">\n",
       "      <th></th>\n",
       "      <th>TV</th>\n",
       "      <th>radio</th>\n",
       "      <th>newspaper</th>\n",
       "      <th>sales</th>\n",
       "    </tr>\n",
       "  </thead>\n",
       "  <tbody>\n",
       "    <tr>\n",
       "      <th>1</th>\n",
       "      <td>230.1</td>\n",
       "      <td>37.8</td>\n",
       "      <td>69.2</td>\n",
       "      <td>22.1</td>\n",
       "    </tr>\n",
       "    <tr>\n",
       "      <th>2</th>\n",
       "      <td>44.5</td>\n",
       "      <td>39.3</td>\n",
       "      <td>45.1</td>\n",
       "      <td>10.4</td>\n",
       "    </tr>\n",
       "    <tr>\n",
       "      <th>3</th>\n",
       "      <td>17.2</td>\n",
       "      <td>45.9</td>\n",
       "      <td>69.3</td>\n",
       "      <td>9.3</td>\n",
       "    </tr>\n",
       "    <tr>\n",
       "      <th>4</th>\n",
       "      <td>151.5</td>\n",
       "      <td>41.3</td>\n",
       "      <td>58.5</td>\n",
       "      <td>18.5</td>\n",
       "    </tr>\n",
       "    <tr>\n",
       "      <th>5</th>\n",
       "      <td>180.8</td>\n",
       "      <td>10.8</td>\n",
       "      <td>58.4</td>\n",
       "      <td>12.9</td>\n",
       "    </tr>\n",
       "    <tr>\n",
       "      <th>...</th>\n",
       "      <td>...</td>\n",
       "      <td>...</td>\n",
       "      <td>...</td>\n",
       "      <td>...</td>\n",
       "    </tr>\n",
       "    <tr>\n",
       "      <th>196</th>\n",
       "      <td>38.2</td>\n",
       "      <td>3.7</td>\n",
       "      <td>13.8</td>\n",
       "      <td>7.6</td>\n",
       "    </tr>\n",
       "    <tr>\n",
       "      <th>197</th>\n",
       "      <td>94.2</td>\n",
       "      <td>4.9</td>\n",
       "      <td>8.1</td>\n",
       "      <td>9.7</td>\n",
       "    </tr>\n",
       "    <tr>\n",
       "      <th>198</th>\n",
       "      <td>177.0</td>\n",
       "      <td>9.3</td>\n",
       "      <td>6.4</td>\n",
       "      <td>12.8</td>\n",
       "    </tr>\n",
       "    <tr>\n",
       "      <th>199</th>\n",
       "      <td>283.6</td>\n",
       "      <td>42.0</td>\n",
       "      <td>66.2</td>\n",
       "      <td>25.5</td>\n",
       "    </tr>\n",
       "    <tr>\n",
       "      <th>200</th>\n",
       "      <td>232.1</td>\n",
       "      <td>8.6</td>\n",
       "      <td>8.7</td>\n",
       "      <td>13.4</td>\n",
       "    </tr>\n",
       "  </tbody>\n",
       "</table>\n",
       "<p>198 rows × 4 columns</p>\n",
       "</div>"
      ],
      "text/plain": [
       "        TV  radio  newspaper  sales\n",
       "1    230.1   37.8       69.2   22.1\n",
       "2     44.5   39.3       45.1   10.4\n",
       "3     17.2   45.9       69.3    9.3\n",
       "4    151.5   41.3       58.5   18.5\n",
       "5    180.8   10.8       58.4   12.9\n",
       "..     ...    ...        ...    ...\n",
       "196   38.2    3.7       13.8    7.6\n",
       "197   94.2    4.9        8.1    9.7\n",
       "198  177.0    9.3        6.4   12.8\n",
       "199  283.6   42.0       66.2   25.5\n",
       "200  232.1    8.6        8.7   13.4\n",
       "\n",
       "[198 rows x 4 columns]"
      ]
     },
     "execution_count": 46,
     "metadata": {},
     "output_type": "execute_result"
    }
   ],
   "source": [
    "df"
   ]
  },
  {
   "cell_type": "code",
   "execution_count": 47,
   "id": "5193939e",
   "metadata": {},
   "outputs": [],
   "source": [
    "x_new = pd.DataFrame({'TV':['230.1']})"
   ]
  },
  {
   "cell_type": "code",
   "execution_count": 48,
   "id": "a47a7ad0",
   "metadata": {},
   "outputs": [
    {
     "data": {
      "text/html": [
       "<div>\n",
       "<style scoped>\n",
       "    .dataframe tbody tr th:only-of-type {\n",
       "        vertical-align: middle;\n",
       "    }\n",
       "\n",
       "    .dataframe tbody tr th {\n",
       "        vertical-align: top;\n",
       "    }\n",
       "\n",
       "    .dataframe thead th {\n",
       "        text-align: right;\n",
       "    }\n",
       "</style>\n",
       "<table border=\"1\" class=\"dataframe\">\n",
       "  <thead>\n",
       "    <tr style=\"text-align: right;\">\n",
       "      <th></th>\n",
       "      <th>TV</th>\n",
       "    </tr>\n",
       "  </thead>\n",
       "  <tbody>\n",
       "    <tr>\n",
       "      <th>0</th>\n",
       "      <td>230.1</td>\n",
       "    </tr>\n",
       "  </tbody>\n",
       "</table>\n",
       "</div>"
      ],
      "text/plain": [
       "      TV\n",
       "0  230.1"
      ]
     },
     "execution_count": 48,
     "metadata": {},
     "output_type": "execute_result"
    }
   ],
   "source": [
    "x_new"
   ]
  },
  {
   "cell_type": "code",
   "execution_count": 49,
   "id": "b0be3214",
   "metadata": {},
   "outputs": [
    {
     "data": {
      "text/plain": [
       "array([17.93293632])"
      ]
     },
     "execution_count": 49,
     "metadata": {},
     "output_type": "execute_result"
    }
   ],
   "source": [
    "lr.predict(x_new)"
   ]
  },
  {
   "cell_type": "markdown",
   "id": "4a9ccc39",
   "metadata": {},
   "source": [
    "# hypothesis testing and pvalue"
   ]
  },
  {
   "cell_type": "code",
   "execution_count": 50,
   "id": "10723b33",
   "metadata": {},
   "outputs": [],
   "source": [
    "import statsmodels.formula.api as smf"
   ]
  },
  {
   "cell_type": "code",
   "execution_count": 51,
   "id": "e226439c",
   "metadata": {},
   "outputs": [],
   "source": [
    "lr = smf.ols(formula='sales~TV',data=df).fit()"
   ]
  },
  {
   "cell_type": "code",
   "execution_count": 53,
   "id": "93faa45b",
   "metadata": {},
   "outputs": [
    {
     "data": {
      "text/plain": [
       "Intercept    4.834823e-35\n",
       "TV           1.286886e-41\n",
       "dtype: float64"
      ]
     },
     "execution_count": 53,
     "metadata": {},
     "output_type": "execute_result"
    }
   ],
   "source": [
    "lr.pvalues"
   ]
  },
  {
   "cell_type": "code",
   "execution_count": 54,
   "id": "11c1069f",
   "metadata": {},
   "outputs": [],
   "source": [
    "#null hypothesis = no relation tv and sales\n",
    "#alternate hypothesis = yes relation tv and sales"
   ]
  },
  {
   "cell_type": "raw",
   "id": "26f8de79",
   "metadata": {},
   "source": [
    "confidence intraval 95% include zeo when will pvalue is greater than 0.5.\n",
    "confidence intraval 95% not included whwn will pvalue is lessthan 0.5."
   ]
  },
  {
   "cell_type": "raw",
   "id": "9289e70f",
   "metadata": {},
   "source": [
    "pvalue = 1.286886e-41 thats mean = 0.000000041th number \n",
    "\n",
    "so pvalue<0.5 pvalue is lessthan alpha value so reject\n",
    "null hypothesis."
   ]
  },
  {
   "cell_type": "markdown",
   "id": "aa275442",
   "metadata": {},
   "source": [
    "# model confidence"
   ]
  },
  {
   "cell_type": "markdown",
   "id": "375f6642",
   "metadata": {},
   "source": [
    "# r2 statistic"
   ]
  },
  {
   "cell_type": "raw",
   "id": "6eda00a3",
   "metadata": {},
   "source": [
    "rsquared = 1-rss/tss\n",
    "rss=residual sum of square\n",
    "tss=total sum of square\n",
    "rss = summation(actual_value-predict_value)whole square\n",
    "\n",
    "tss = summation(actual_value-mean_value)whole square"
   ]
  },
  {
   "cell_type": "code",
   "execution_count": 55,
   "id": "9535c34d",
   "metadata": {},
   "outputs": [
    {
     "data": {
      "text/plain": [
       "0.6070293104334953"
      ]
     },
     "execution_count": 55,
     "metadata": {},
     "output_type": "execute_result"
    }
   ],
   "source": [
    "lr.rsquared"
   ]
  },
  {
   "cell_type": "markdown",
   "id": "f17dbf80",
   "metadata": {},
   "source": [
    "rsuared its use simple linear regression"
   ]
  },
  {
   "cell_type": "markdown",
   "id": "fc26d8a9",
   "metadata": {},
   "source": [
    "model confidence=60%"
   ]
  },
  {
   "cell_type": "markdown",
   "id": "7d08f6a5",
   "metadata": {},
   "source": [
    "# adjusted rsuared"
   ]
  },
  {
   "cell_type": "markdown",
   "id": "34b0ee5d",
   "metadata": {},
   "source": [
    "adjusted rsquared its use multiple linear regression"
   ]
  },
  {
   "cell_type": "markdown",
   "id": "1868de7d",
   "metadata": {},
   "source": [
    "# multi linear regression"
   ]
  },
  {
   "cell_type": "code",
   "execution_count": 57,
   "id": "097fec12",
   "metadata": {},
   "outputs": [],
   "source": [
    "#y = m1x1+m2x2......mxn"
   ]
  },
  {
   "cell_type": "code",
   "execution_count": 58,
   "id": "015c41e3",
   "metadata": {},
   "outputs": [],
   "source": [
    "x = df[['TV','radio','newspaper']]\n",
    "y = df.sales"
   ]
  },
  {
   "cell_type": "code",
   "execution_count": 60,
   "id": "456b7583",
   "metadata": {},
   "outputs": [
    {
     "data": {
      "text/plain": [
       "LinearRegression()"
      ]
     },
     "execution_count": 60,
     "metadata": {},
     "output_type": "execute_result"
    }
   ],
   "source": [
    "lr = LinearRegression()\n",
    "lr.fit(x,y)"
   ]
  },
  {
   "cell_type": "code",
   "execution_count": 63,
   "id": "fbe62cac",
   "metadata": {},
   "outputs": [
    {
     "data": {
      "text/plain": [
       "2.952308567118184"
      ]
     },
     "execution_count": 63,
     "metadata": {},
     "output_type": "execute_result"
    }
   ],
   "source": [
    "lr.intercept_\n"
   ]
  },
  {
   "cell_type": "code",
   "execution_count": 64,
   "id": "b0c712ae",
   "metadata": {},
   "outputs": [
    {
     "data": {
      "text/plain": [
       "0.045690341924578895"
      ]
     },
     "execution_count": 64,
     "metadata": {},
     "output_type": "execute_result"
    }
   ],
   "source": [
    "lr.coef_[0]\n",
    "\n"
   ]
  },
  {
   "cell_type": "code",
   "execution_count": 65,
   "id": "c0fb6d6c",
   "metadata": {},
   "outputs": [
    {
     "data": {
      "text/plain": [
       "0.18855046885810486"
      ]
     },
     "execution_count": 65,
     "metadata": {},
     "output_type": "execute_result"
    }
   ],
   "source": [
    "lr.coef_[1]\n",
    "\n"
   ]
  },
  {
   "cell_type": "code",
   "execution_count": 66,
   "id": "d0b343d8",
   "metadata": {},
   "outputs": [
    {
     "data": {
      "text/plain": [
       "-0.0011776635581814215"
      ]
     },
     "execution_count": 66,
     "metadata": {},
     "output_type": "execute_result"
    }
   ],
   "source": [
    "lr.coef_[2]"
   ]
  },
  {
   "cell_type": "code",
   "execution_count": 67,
   "id": "038458f0",
   "metadata": {},
   "outputs": [],
   "source": [
    "lr = smf.ols(formula='sales~TV+radio+newspaper',data=df).fit()"
   ]
  },
  {
   "cell_type": "code",
   "execution_count": 68,
   "id": "f754df98",
   "metadata": {},
   "outputs": [
    {
     "data": {
      "text/html": [
       "<table class=\"simpletable\">\n",
       "<caption>OLS Regression Results</caption>\n",
       "<tr>\n",
       "  <th>Dep. Variable:</th>          <td>sales</td>      <th>  R-squared:         </th> <td>   0.895</td>\n",
       "</tr>\n",
       "<tr>\n",
       "  <th>Model:</th>                   <td>OLS</td>       <th>  Adj. R-squared:    </th> <td>   0.894</td>\n",
       "</tr>\n",
       "<tr>\n",
       "  <th>Method:</th>             <td>Least Squares</td>  <th>  F-statistic:       </th> <td>   553.5</td>\n",
       "</tr>\n",
       "<tr>\n",
       "  <th>Date:</th>             <td>Thu, 08 Sep 2022</td> <th>  Prob (F-statistic):</th> <td>8.35e-95</td>\n",
       "</tr>\n",
       "<tr>\n",
       "  <th>Time:</th>                 <td>17:25:21</td>     <th>  Log-Likelihood:    </th> <td> -383.24</td>\n",
       "</tr>\n",
       "<tr>\n",
       "  <th>No. Observations:</th>      <td>   198</td>      <th>  AIC:               </th> <td>   774.5</td>\n",
       "</tr>\n",
       "<tr>\n",
       "  <th>Df Residuals:</th>          <td>   194</td>      <th>  BIC:               </th> <td>   787.6</td>\n",
       "</tr>\n",
       "<tr>\n",
       "  <th>Df Model:</th>              <td>     3</td>      <th>                     </th>     <td> </td>   \n",
       "</tr>\n",
       "<tr>\n",
       "  <th>Covariance Type:</th>      <td>nonrobust</td>    <th>                     </th>     <td> </td>   \n",
       "</tr>\n",
       "</table>\n",
       "<table class=\"simpletable\">\n",
       "<tr>\n",
       "      <td></td>         <th>coef</th>     <th>std err</th>      <th>t</th>      <th>P>|t|</th>  <th>[0.025</th>    <th>0.975]</th>  \n",
       "</tr>\n",
       "<tr>\n",
       "  <th>Intercept</th> <td>    2.9523</td> <td>    0.318</td> <td>    9.280</td> <td> 0.000</td> <td>    2.325</td> <td>    3.580</td>\n",
       "</tr>\n",
       "<tr>\n",
       "  <th>TV</th>        <td>    0.0457</td> <td>    0.001</td> <td>   32.293</td> <td> 0.000</td> <td>    0.043</td> <td>    0.048</td>\n",
       "</tr>\n",
       "<tr>\n",
       "  <th>radio</th>     <td>    0.1886</td> <td>    0.009</td> <td>   21.772</td> <td> 0.000</td> <td>    0.171</td> <td>    0.206</td>\n",
       "</tr>\n",
       "<tr>\n",
       "  <th>newspaper</th> <td>   -0.0012</td> <td>    0.006</td> <td>   -0.187</td> <td> 0.852</td> <td>   -0.014</td> <td>    0.011</td>\n",
       "</tr>\n",
       "</table>\n",
       "<table class=\"simpletable\">\n",
       "<tr>\n",
       "  <th>Omnibus:</th>       <td>59.593</td> <th>  Durbin-Watson:     </th> <td>   2.041</td>\n",
       "</tr>\n",
       "<tr>\n",
       "  <th>Prob(Omnibus):</th> <td> 0.000</td> <th>  Jarque-Bera (JB):  </th> <td> 147.654</td>\n",
       "</tr>\n",
       "<tr>\n",
       "  <th>Skew:</th>          <td>-1.324</td> <th>  Prob(JB):          </th> <td>8.66e-33</td>\n",
       "</tr>\n",
       "<tr>\n",
       "  <th>Kurtosis:</th>      <td> 6.299</td> <th>  Cond. No.          </th> <td>    457.</td>\n",
       "</tr>\n",
       "</table><br/><br/>Notes:<br/>[1] Standard Errors assume that the covariance matrix of the errors is correctly specified."
      ],
      "text/plain": [
       "<class 'statsmodels.iolib.summary.Summary'>\n",
       "\"\"\"\n",
       "                            OLS Regression Results                            \n",
       "==============================================================================\n",
       "Dep. Variable:                  sales   R-squared:                       0.895\n",
       "Model:                            OLS   Adj. R-squared:                  0.894\n",
       "Method:                 Least Squares   F-statistic:                     553.5\n",
       "Date:                Thu, 08 Sep 2022   Prob (F-statistic):           8.35e-95\n",
       "Time:                        17:25:21   Log-Likelihood:                -383.24\n",
       "No. Observations:                 198   AIC:                             774.5\n",
       "Df Residuals:                     194   BIC:                             787.6\n",
       "Df Model:                           3                                         \n",
       "Covariance Type:            nonrobust                                         \n",
       "==============================================================================\n",
       "                 coef    std err          t      P>|t|      [0.025      0.975]\n",
       "------------------------------------------------------------------------------\n",
       "Intercept      2.9523      0.318      9.280      0.000       2.325       3.580\n",
       "TV             0.0457      0.001     32.293      0.000       0.043       0.048\n",
       "radio          0.1886      0.009     21.772      0.000       0.171       0.206\n",
       "newspaper     -0.0012      0.006     -0.187      0.852      -0.014       0.011\n",
       "==============================================================================\n",
       "Omnibus:                       59.593   Durbin-Watson:                   2.041\n",
       "Prob(Omnibus):                  0.000   Jarque-Bera (JB):              147.654\n",
       "Skew:                          -1.324   Prob(JB):                     8.66e-33\n",
       "Kurtosis:                       6.299   Cond. No.                         457.\n",
       "==============================================================================\n",
       "\n",
       "Notes:\n",
       "[1] Standard Errors assume that the covariance matrix of the errors is correctly specified.\n",
       "\"\"\""
      ]
     },
     "execution_count": 68,
     "metadata": {},
     "output_type": "execute_result"
    }
   ],
   "source": [
    "lr.summary()"
   ]
  },
  {
   "cell_type": "markdown",
   "id": "7a9d731c",
   "metadata": {},
   "source": [
    "# feature selection"
   ]
  },
  {
   "cell_type": "code",
   "execution_count": 69,
   "id": "569b1bdf",
   "metadata": {},
   "outputs": [
    {
     "data": {
      "text/plain": [
       "0.8953917183024751"
      ]
     },
     "execution_count": 69,
     "metadata": {},
     "output_type": "execute_result"
    }
   ],
   "source": [
    "lr = smf.ols(formula='sales~TV+radio+newspaper',data=df).fit()\n",
    "lr.rsquared"
   ]
  },
  {
   "cell_type": "code",
   "execution_count": 70,
   "id": "a2252096",
   "metadata": {},
   "outputs": [
    {
     "data": {
      "text/plain": [
       "0.8953728420315047"
      ]
     },
     "execution_count": 70,
     "metadata": {},
     "output_type": "execute_result"
    }
   ],
   "source": [
    "lr = smf.ols(formula='sales~TV+radio',data=df).fit()\n",
    "lr.rsquared"
   ]
  },
  {
   "cell_type": "code",
   "execution_count": null,
   "id": "f25fb4b4",
   "metadata": {},
   "outputs": [],
   "source": []
  }
 ],
 "metadata": {
  "kernelspec": {
   "display_name": "Python 3 (ipykernel)",
   "language": "python",
   "name": "python3"
  },
  "language_info": {
   "codemirror_mode": {
    "name": "ipython",
    "version": 3
   },
   "file_extension": ".py",
   "mimetype": "text/x-python",
   "name": "python",
   "nbconvert_exporter": "python",
   "pygments_lexer": "ipython3",
   "version": "3.9.12"
  }
 },
 "nbformat": 4,
 "nbformat_minor": 5
}
